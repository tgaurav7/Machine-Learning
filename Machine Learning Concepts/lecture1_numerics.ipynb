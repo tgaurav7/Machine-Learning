{
 "cells": [
  {
   "cell_type": "markdown",
   "metadata": {
    "nbpresent": {
     "id": "414ee82c-d0f5-433e-b0c3-4d062968c50e"
    },
    "slideshow": {
     "slide_type": "slide"
    }
   },
   "source": [
    "# Numerical Computing with Python\n",
    "# Lecture 1: Numerics\n",
    "### Ramses van Zon and Alexey Fedoseev\n",
    "#### SciNet HPC Consortium, University of Toronto\n",
    "####  November 5, 2019"
   ]
  },
  {
   "cell_type": "code",
   "execution_count": 1,
   "metadata": {
    "nbpresent": {
     "id": "7ab312d6-1a33-4d61-9387-851d68f58341"
    }
   },
   "outputs": [
    {
     "data": {
      "text/html": [
       "<style> h1, h2 { color: #2a7bbd ! important; } h1 { font-size: 2.5em !important; }  </style>"
      ],
      "text/plain": [
       "<IPython.core.display.HTML object>"
      ]
     },
     "metadata": {},
     "output_type": "display_data"
    }
   ],
   "source": [
    "%%html\n",
    "<style> h1, h2 { color: #2a7bbd ! important; } h1 { font-size: 2.5em !important; }  </style>"
   ]
  },
  {
   "cell_type": "markdown",
   "metadata": {
    "nbpresent": {
     "id": "1e458b54-a38f-4660-9797-b32b01b00e3e"
    },
    "slideshow": {
     "slide_type": "slide"
    }
   },
   "source": [
    "# Introduction to the Course"
   ]
  },
  {
   "cell_type": "markdown",
   "metadata": {
    "nbpresent": {
     "id": "1680d750-bad1-451a-914e-0527b354423e"
    },
    "slideshow": {
     "slide_type": "slide"
    }
   },
   "source": [
    "## About the course\n",
    "\n",
    "  * Mini graduate-style course on numerical research computing\n",
    "  \n",
    "  * Using Python 3 as the programming language.\n",
    "  \n",
    "  * 4 weeks with 2 lectures per week\n",
    "  \n",
    "  * Can be taken for credit by (astro)physics, chemistry, and possibly others, as mini/modular course.\n",
    "  \n",
    "  * There will be an assignment each week.\n"
   ]
  },
  {
   "cell_type": "markdown",
   "metadata": {
    "nbpresent": {
     "id": "b369d3f5-a355-4916-857f-4f4979687e32"
    },
    "slideshow": {
     "slide_type": "slide"
    }
   },
   "source": [
    "## Lectures and Office Hours\n",
    "\n",
    "### Lecture dates\n",
    "\n",
    "Nov 5, 7, 12, 14, 26, 28, and Dec 3 and 5, 2019\n",
    "\n",
    "1 pm - 2 pm, SciNet classroom\n",
    "\n",
    "(suite 1140A of the MaRS building, 661 University Avenue, Toronto, ON M5G 1M1)\n",
    "\n",
    "Lectures will be recorded and put online within a couple of days.\n",
    "\n",
    "### Office hours\n",
    "\n",
    "Wednesdays 2 pm - 3 pm\n",
    "\n",
    "SciNet Offices, suite 1140 of the MaRS building"
   ]
  },
  {
   "cell_type": "markdown",
   "metadata": {
    "nbpresent": {
     "id": "524313f8-a554-44ae-974c-45750472d4d8"
    }
   },
   "source": [
    "## Course Topics\n",
    "\n",
    "  * Numerics\n",
    "  \n",
    "  * NumPy and SciPy\n",
    "  \n",
    "  * Integration and ordinary differential equations\n",
    "  \n",
    "  * Visualization\n",
    "  \n",
    "  * Linear algebra and partial differential equations\n",
    "  \n",
    "  * Binary file input and output\n",
    "  \n",
    "  * Markov chain Monte Carlo\n",
    "  \n",
    "  * Machine Learning"
   ]
  },
  {
   "cell_type": "markdown",
   "metadata": {
    "nbpresent": {
     "id": "58920ed3-f95c-40b7-9c79-202c6781ce61"
    }
   },
   "source": [
    "## Details\n",
    "\n",
    "  * **Prerequisites:**\n",
    "\n",
    "    You should be comfortable programming in Python (3).\n",
    "\n",
    "  * **Software that you'll need:**\n",
    "\n",
    "    Python with numpy, scipy, matplotlib, and sklearn.\n",
    "\n",
    "    Easiest to get (and preferred): anaconda\n",
    "\n",
    "\n",
    "  * **Instructors**\n",
    "    - Ramses van Zon\n",
    "    - Alexey Fedoseev\n",
    "\n",
    "   Contact us at courses@scinet.utoronto.ca\n",
    "\n",
    "  * **Please fill out the sign-up sheet!**\n"
   ]
  },
  {
   "cell_type": "markdown",
   "metadata": {
    "nbpresent": {
     "id": "2d855996-4bfa-4fc5-abeb-7a3ab882873f"
    }
   },
   "source": [
    "## Details - Assignments and Grading\n",
    "\n",
    "\n",
    "  * **Assignments**\n",
    "\n",
    "    Programming assignments will given every week on Thursday.\n",
    "\n",
    "    These assignments will be due the following week.  Late\n",
    "    submissions are allowed upto one week later, at a penalty per day\n",
    "    of 5 points out of 100.\n",
    "\n",
    "    The assignments should be handed in online in the 'dropbox' on the\n",
    "    course website.    \n",
    "         \n",
    "\n",
    "  * **Grading scheme**\n",
    "\n",
    "    The grading scheme will be based on the average of the four\n",
    "    homework assignments.\n"
   ]
  },
  {
   "cell_type": "markdown",
   "metadata": {
    "nbpresent": {
     "id": "51c96d2b-fb38-4231-bb44-a80ed065c394"
    }
   },
   "source": [
    "# Installing Python"
   ]
  },
  {
   "cell_type": "markdown",
   "metadata": {
    "nbpresent": {
     "id": "69eb2db0-1c60-49cb-8a80-8117b60b9291"
    }
   },
   "source": [
    "## Getting Python\n",
    "\n",
    "* With Python 3, we will use a number of \n",
    "packages such as `numpy`, `scipy`, `matplotlib`, and `sklearn`.\n",
    "\n",
    "* The easiest way to get all of these is to install one of the Anaconda distributions:\n",
    "\n",
    "[![](anaconda_download.png)](https://www.anaconda.com/download)\n"
   ]
  },
  {
   "cell_type": "markdown",
   "metadata": {
    "nbpresent": {
     "id": "ee8da7b1-2971-43bb-a333-1fcc0b181202"
    }
   },
   "source": [
    "## Getting Python 3 on SciNet\n",
    "\n",
    "* You of course can also work on SciNet's Niagara.\n",
    "\n",
    "* We'd suggest using the 'intelpython3' module.\n",
    "\n",
    "```bash\n",
    "$ ssh -Y USERNAME@niagara.scinet.utoronto.ca\n",
    "Last login: Tue Nov  6 12:02:57 2018 from\n",
    "....\n",
    "\n",
    "$ module load intelpython3\n",
    "\n",
    "$ python3 #(or ipython3, or ipython3 --pylab)\n",
    "Python 3.6.3 | Intel Corporation| (default, Feb 12 2018, 06:37:09) \n",
    "[GCC 4.8.2 20140120 (Red Hat 4.8.2-15)] on linux\n",
    "Type \"help\", \"copyright\", \"credits\" or \"license\" for more information.\n",
    "Intel(R) Distribution for Python is brought to you by Intel Corporation.\n",
    "Please check out: https://software.intel.com/en-us/python-distribution\n",
    ">>> \n",
    "```\n",
    "\n",
    "* You can also use SciNet's jupyterhub at [https://jupyter.scinet.utoronto.ca](https://jupyter.scinet.utoronto.ca)."
   ]
  },
  {
   "cell_type": "markdown",
   "metadata": {
    "nbpresent": {
     "id": "1b2ae621-90d2-4ad9-9f20-6cd433235a3a"
    }
   },
   "source": [
    "\n",
    "## Python, IPython, Jupyter: Which one to use?\n",
    "\n",
    "Totally up to you, as long as:\n",
    "\n",
    "  * You use Python ****3****.\n",
    "  \n",
    "  * If your favorite (or your friends favorite) python environment\n",
    "    fails, you are able to switch to plain command-line python.\n",
    "\n",
    "  * You are able to write ****plain python scripts**** that run\n",
    "    regardless of the environment.    \n",
    "    That means that opening a terminal and running the script with the command    \n",
    "    **`python3 SCRIPTNAME`** must work.\n",
    "\n",
    "  * This is important because you have to **submit your homework as plain python scripts** that you have tested and that we can run.    \n",
    "    No jupyter notebooks, no ipython extensions for the assignments.\n"
   ]
  },
  {
   "cell_type": "markdown",
   "metadata": {
    "nbpresent": {
     "id": "95870b70-9a65-469c-9f4a-9c47001848e0"
    }
   },
   "source": [
    "# Enough preliminaries, let's get started..."
   ]
  },
  {
   "cell_type": "markdown",
   "metadata": {
    "nbpresent": {
     "id": "647843d7-908e-46c4-8ba7-ffdf165a038a"
    }
   },
   "source": [
    "## Research Computing\n",
    "\n",
    "*A.K.A.: Computational Science, Scientific Computing.*\n",
    "\n",
    "**Using a computing device (computer) to figure out values of\n",
    "quantities of interest in the scientific endevour.**\n",
    "\n",
    "One computes for a variety of reasons, such as\n",
    "\n",
    "  * Large data processing/data mining\n",
    "  * Investigating behaviour of models too complex to deal with on paper\n",
    "  * Interpret experimental results using a theoretical model\n",
    "  * Finding simpler models from more complex ones\n",
    "  * Visualization\n"
   ]
  },
  {
   "cell_type": "markdown",
   "metadata": {
    "nbpresent": {
     "id": "da792023-f69a-4b52-b702-702741eb0756"
    }
   },
   "source": [
    "## Third Leg?\n",
    "\n",
    "*Research Computing* is often called the\n",
    "third leg of science:\n",
    "\n",
    "<div>\n",
    "<img src=\"figthirdleg_on_white.png\" width=480/>\n",
    "</div>\n",
    "\n",
    "Won't get into philosopical matters.\n",
    "\n",
    "From a practical perspective:\n",
    "\n",
    "  * Computation is used by experiment and theory.\n",
    "  * Research Computing can learn from best practices in both\n",
    "    theoretical and experimental science.\n",
    "  * It is often closer to a well controlled experiment.\n",
    "  * Requires some knowledge and skills unique to computing.\n",
    "\n"
   ]
  },
  {
   "cell_type": "markdown",
   "metadata": {
    "nbpresent": {
     "id": "8466fe8a-91c6-425e-ab73-155b64a62a43"
    }
   },
   "source": [
    "# Numerics"
   ]
  },
  {
   "cell_type": "markdown",
   "metadata": {
    "nbpresent": {
     "id": "dad28481-9327-4088-98f5-1917b7a1f5bd"
    }
   },
   "source": [
    "## Numerics\n",
    "\n",
    "  * Numerical analysis will be one of the themes of this mini-course.    \n",
    "    (Data analysis is the other.)\n",
    "\n",
    "  * Today we'll look at numbers:\n",
    "      - How they are represented and why.\n",
    "      - How computers store different types of numbers.\n",
    "      - The kind of errors that can creep into numerical calculations."
   ]
  },
  {
   "cell_type": "markdown",
   "metadata": {
    "nbpresent": {
     "id": "8b83913a-440d-4b31-94ce-e8d5f8b0f3de"
    }
   },
   "source": [
    "## How do we represent quantities?\n",
    "\n",
    "  * We use numbers, of course.\n",
    "  * In grade school we are taught that numbers are organized\n",
    "    in columns of digits.  We learn the names of these columns.\n",
    "  * The numbers are understood as multiplying the digit in the\n",
    "    column by the number that names the column.\n",
    "        \n",
    "<div>\n",
    "<img src=\"decimal0_on_white.png\" width=\"480\"/>\n",
    "</div>\n",
    "    \n",
    "    \n",
    "$1034 = (1 \\times 1000) + (0 \\times 100) + (3 \\times 10) + (4 \\times 1)$ "
   ]
  },
  {
   "cell_type": "markdown",
   "metadata": {
    "nbpresent": {
     "id": "6e9e8f8c-e63b-42e3-a759-0ce542a0aad3"
    }
   },
   "source": [
    "## Other ways to represent a quantity\n",
    "  \n",
    "  * Instead of using 'tens' and 'hundreds', let's represent the\n",
    "    columns by powers of what we will call the `base'.\n",
    "  * Our normal way of representing numbers is `base 10', also called\n",
    "    decimal.\n",
    "  * Each column represents a power of ten, and the coefficient can be\n",
    "    one of 10 numerals (0-9).\n",
    "\n",
    "<div>\n",
    "<img src=\"decimal_on_white.png\" width=300 />\n",
    "</div>\n",
    "$1034 = (1 \\times 10^3) + (0 \\times 10^2) + (3 \\times 10^1) + (4 \\times 10^0)$\n"
   ]
  },
  {
   "cell_type": "markdown",
   "metadata": {
    "nbpresent": {
     "id": "c06e813f-967d-47ad-ac85-751a5207a800"
    }
   },
   "source": [
    "## You can choose any base you want\n",
    "  \n",
    "How do we represent the quantity 1034 if we change bases?  What about base 7 (septenary)?\n",
    "\n",
    "<div>\n",
    "<img src=\"septenary_on_white.png\" width=300 />\n",
    "</div>\n",
    "\n",
    "$1034 = (3 \\times 7^3) + (0 \\times 7^2) + (0 \\times 7^1) + (5 \\times 7^0)$\n",
    "\n",
    "*Note: In base 7 the numerals have the range 0-6.*\n"
   ]
  },
  {
   "cell_type": "markdown",
   "metadata": {
    "nbpresent": {
     "id": "534da50a-2882-445a-974c-68977c14171c"
    }
   },
   "source": [
    "## Who cares?\n",
    "  \n",
    "The reason we care is because computers do not use base 10 to store\n",
    "their data.\n",
    "\n",
    "Computers use base 2 (binary).  The numerals have the\n",
    "range 0-1.\n",
    "\n",
    "<div>\n",
    "<img src=\"decimal_on_white.png\" width=200 />&nbsp;<img src=\"binary_on_white.png\" width=280 />\n",
    "</div>\n",
    "\n",
    "\\begin{eqnarray}\\nonumber\n",
    "  1034 & = & (1 \\times 2^{10}) + (0 \\times2^9) + (0 \\times 2^8) + \n",
    "  (0 \\times 2^7)\\\\\\nonumber\n",
    "  && \\quad + (0 \\times 2^6) + (0 \\times 2^5) + (0 \\times 2^4)\n",
    "  + (1 \\times 2^3)\\\\\\nonumber\n",
    "  && \\quad + (0 \\times 2^2)+ (1 \\times 2^1) + (0 \\times 2^0)\n",
    "\\end{eqnarray}\n"
   ]
  },
  {
   "cell_type": "markdown",
   "metadata": {
    "nbpresent": {
     "id": "31d7efde-7ea8-45bd-8cec-d796b0daf186"
    }
   },
   "source": [
    "## Why do computers use binary numbers?\n",
    "\n",
    "Why use binary?\n",
    "\n",
    "  * Modern computers operate using circuits that have one of\n",
    "    two states: \"on\" or \"off\".\n",
    "        \n",
    "\n",
    "  * This choice is related to the complexity and cost of\n",
    "    building binary versus ternary circuitry.    \n",
    "    \n",
    "  * Binary numbers are like series of \"switches\": each digit\n",
    "    is either \"on\" or \"off\".    \n",
    "    \n",
    "  * Each \"switch\" in the number is called a \"bit\"."
   ]
  },
  {
   "cell_type": "markdown",
   "metadata": {
    "nbpresent": {
     "id": "3d1fede8-effc-4063-8865-09b5fb4d0759"
    }
   },
   "source": [
    "## Integers\n",
    "\n",
    "All integers are exactly representable.\n",
    "\n",
    "  * Different sizes of integer variables are available,\n",
    "    depending on your hardware, OS, and programming language.\n",
    "  * For most languages, a typical integer is 32 bits.\n",
    "  * Negative numbers often represented using \"two's complement\".\n",
    "    ($-x \\equiv 2^{32}-x$)\n",
    "\n",
    "  * Finite range: can go from -$2^{31}$ to $2^{31}-1$ (-2,147,483,648 to 2,147,483,647).\n",
    "  * Unsigned integers: $0 ... 2^{32}-1$.\n",
    "  * All operations (+, -, *) between representable integers\n",
    "    are represented unless there is overflow.\n",
    "\n",
    "### Situation for Python 3:\n",
    "\n",
    "  * The CPU has dedicated circuitry to deal with integers as described above.\n",
    "  * But Python integers have ***infinite range***;    \n",
    "    That's convenient, but means integer arithmetic is done in software.\n",
    "  * To get the faster, low-level integers back, we can use datatypes\n",
    "    from `numpy` (next lecture).\n"
   ]
  },
  {
   "cell_type": "markdown",
   "metadata": {
    "nbpresent": {
     "id": "136581b9-1dbb-4992-9f48-0cd889d49e71"
    }
   },
   "source": [
    "## Floating point numbers\n",
    "\n",
    "  * Analog of numbers in scientific notation.\n",
    "  * Inclusion of an exponent means the decimal point is\n",
    "    \"floating\".\n",
    "  * One bit is dedicated to sign.\n",
    "        \n",
    "<div><img src=\"float_on_white.png\" width=300 /> </div>\n",
    "\n",
    "<div><img src=\"floatbits_on_white.png\" width=720 /> </div>\n",
    "\n",
    "A typical single precision real = 32 bits = 4 bytes.\n",
    "\n",
    "A typical double precision real = 64 bits = 8 bytes.\n"
   ]
  },
  {
   "cell_type": "markdown",
   "metadata": {
    "nbpresent": {
     "id": "7c47b973-ea2d-4390-8a42-84bb0989c6c5"
    }
   },
   "source": [
    "## Floats in Python\n",
    "  \n",
    "### Floating point numbers\n",
    "  * Based on the 64 bits floating point type.\n",
    "  * You can specify the exponent by putting \"e\" in your number.\n",
    "  * Information about floats on your system can be found in\n",
    "    `sys.float_info.`\n",
    "\n",
    "### Complex numbers\n",
    "  * Have a real and imaginary part, both of which are floats.\n",
    "  * Use z.real and z.imag to access individual parts.\n"
   ]
  },
  {
   "cell_type": "code",
   "execution_count": null,
   "metadata": {
    "nbpresent": {
     "id": "bc0c56f3-1494-4055-b05c-1cc7c387f56b"
    }
   },
   "outputs": [],
   "source": [
    "import sys\n",
    "print(sys.float_info)"
   ]
  },
  {
   "cell_type": "markdown",
   "metadata": {
    "nbpresent": {
     "id": "4be3d80a-71b2-4c59-b423-f32258c198be"
    }
   },
   "source": [
    "## Special \"numbers\"\n",
    "\n",
    "This format for storing floating point numbers comes from the IEEE\n",
    "754 standard.\n",
    "\n",
    "There's room in the format for the storing of a few special numbers.\n",
    "\n",
    "\n",
    "  * Signed infinities (+Inf, -Inf): result of overflow, or divide\n",
    "    by zero.\n",
    "  * Signed zeros: signed underflow, or divide by +/-Inf.\n",
    "  * Not a Number (NaN): square root of a negative number, 0/0,\n",
    "    Inf/Inf, \\emph {etc.}\n",
    "  * The events which lead to these are usually errors, and can be\n",
    "    made to cause exceptions.\n",
    "  * Notice that there is no \"NA\" option.  The pandas\n",
    "    package uses NaN; there is no standard approach.\n",
    "\n"
   ]
  },
  {
   "cell_type": "markdown",
   "metadata": {
    "nbpresent": {
     "id": "7f890d89-c670-4338-af6c-de03bdba329b"
    }
   },
   "source": [
    "## Errors in floating point mathematics\n",
    "\n",
    "There are errors inherent in using finite-length floating point\n",
    "variables.\n",
    "\n",
    "  * Except for numbers that fit exactly into a base two\n",
    "    representation, assigning a real number to a floating point\n",
    "    variable involves truncation.\n",
    "  * Think about how you represent 1/3.  Is it 0.3?  0.33?\n",
    "    0.333?\n",
    "  * You end up with an error of 1/2 ULP    \n",
    "    (Unit in Last Place)."
   ]
  },
  {
   "cell_type": "code",
   "execution_count": null,
   "metadata": {
    "nbpresent": {
     "id": "45b3c48c-b9b8-4272-9a79-b6e6f55ebfa4"
    }
   },
   "outputs": [],
   "source": [
    "a = 0.1\n",
    "print(a)"
   ]
  },
  {
   "cell_type": "code",
   "execution_count": null,
   "metadata": {
    "nbpresent": {
     "id": "651e454d-f8fe-4dcc-98b2-404b57aaca14"
    }
   },
   "outputs": [],
   "source": [
    "print( '%.18f' % a )"
   ]
  },
  {
   "cell_type": "markdown",
   "metadata": {
    "nbpresent": {
     "id": "44f45ad6-aaad-49e2-86b3-13cda855f1e8"
    }
   },
   "source": [
    "In base two, 0.1 is an infinitely repeating fraction:\n",
    "\n",
    "0.0001100110011001100110011...\n",
    "\n",
    "Single precision: 1 part in $2^{-24} \\sim$ 6e-8.\n",
    "\n",
    "Double precision: 1 part in $2^{-53} \\sim$ 1e-16.\n"
   ]
  },
  {
   "cell_type": "markdown",
   "metadata": {
    "nbpresent": {
     "id": "f586fb75-98f5-4283-8942-79848d465bdb"
    }
   },
   "source": [
    "## Testing for equality\n",
    "\n",
    "Never ever ever ever test for equality with floating point numbers!\n",
    "      \n",
    "  * Because of rounding errors in floating point numbers, you\n",
    "    don't know exactly what you're going to get.\n",
    "  * Instead, test to see if the difference is below some tolerance\n",
    "    that is near epsilon.\n",
    "  * Testing for equality with integers is okay, however, because\n",
    "    integers are exact.\n"
   ]
  },
  {
   "cell_type": "code",
   "execution_count": null,
   "metadata": {
    "nbpresent": {
     "id": "d281e5e7-1b88-47b5-806d-f3eb3b151334"
    }
   },
   "outputs": [],
   "source": [
    "a = 0.1 * 0.1\n",
    "b = 0.01\n",
    "print(a == b)"
   ]
  },
  {
   "cell_type": "code",
   "execution_count": null,
   "metadata": {
    "nbpresent": {
     "id": "b9f516b8-0206-45e2-8333-bac58114224d"
    }
   },
   "outputs": [],
   "source": [
    "print(a)"
   ]
  },
  {
   "cell_type": "code",
   "execution_count": null,
   "metadata": {
    "nbpresent": {
     "id": "4f241e0a-182f-4389-a10a-7da01173979d"
    }
   },
   "outputs": [],
   "source": [
    "print(b)"
   ]
  },
  {
   "cell_type": "code",
   "execution_count": null,
   "metadata": {
    "nbpresent": {
     "id": "f57580c5-37e0-425d-9249-444972c16eb9"
    }
   },
   "outputs": [],
   "source": [
    "print(abs(a - b) < 1e-15)"
   ]
  },
  {
   "cell_type": "markdown",
   "metadata": {
    "nbpresent": {
     "id": "a2f2fd06-68b4-4241-8a0f-1c4fbed44282"
    }
   },
   "source": [
    "So: One must be very careful when doing floating point\n",
    "mathematics.\n",
    "\n",
    "In Python, try the examples on the right.\n",
    "\n",
    "What went wrong?"
   ]
  },
  {
   "cell_type": "code",
   "execution_count": null,
   "metadata": {
    "nbpresent": {
     "id": "4f9685d6-28e7-4881-8e8f-124ce9d0d3e9"
    }
   },
   "outputs": [],
   "source": [
    "print(1.)"
   ]
  },
  {
   "cell_type": "code",
   "execution_count": null,
   "metadata": {
    "nbpresent": {
     "id": "9d021e46-0096-4106-96c6-306d42c82594"
    }
   },
   "outputs": [],
   "source": [
    "print(1.e-18)"
   ]
  },
  {
   "cell_type": "code",
   "execution_count": null,
   "metadata": {
    "nbpresent": {
     "id": "3508ad5f-99b3-4020-a4f1-e087bfe9007a"
    }
   },
   "outputs": [],
   "source": [
    "print( (1. - 1.) + 1.e-18 )"
   ]
  },
  {
   "cell_type": "code",
   "execution_count": null,
   "metadata": {
    "nbpresent": {
     "id": "768392bd-c3e8-4bf2-a35c-28678314d56b"
    }
   },
   "outputs": [],
   "source": [
    "print( (1. + 1.e-18) - 1. )"
   ]
  },
  {
   "cell_type": "code",
   "execution_count": null,
   "metadata": {
    "nbpresent": {
     "id": "0a9ede69-f30b-4cd3-a37d-387837e3f7aa"
    }
   },
   "outputs": [],
   "source": [
    "print( 1. + 1.e-18 )"
   ]
  },
  {
   "cell_type": "markdown",
   "metadata": {
    "nbpresent": {
     "id": "f560d6b8-104d-44ea-9250-3ec1980c58c4"
    }
   },
   "source": [
    "## Machine epsilon\n",
    "\n",
    "Let's do some addition, to demonstrate what went wrong.\n",
    "\n",
    "  * Problem: 1.0 + 0.001\n",
    "  * Let's work in base 10.\n",
    "  * Let's assume that we only have a mantissa precision of\n",
    "    3, and exponent precision of 2.\n",
    "\n",
    "<div>\n",
    "<img src=\"precisionloss_on_white.png\" width=200/>\n",
    "</div>\n",
    "\n",
    "  *  So what happened?\n",
    "  *  Mantissa only has a precision of 3!  The final\n",
    "     answer is beyond the range of the mantissa!\n"
   ]
  },
  {
   "cell_type": "markdown",
   "metadata": {
    "nbpresent": {
     "id": "2995bb7a-93c0-4db1-8e1b-e39a8c81f25e"
    }
   },
   "source": [
    "## Machine epsilon\n",
    "\n",
    "Machine epsilon gives you the limits of the precision of the\n",
    "machine.\n",
    "\n",
    "  * Machine epsilon is defined to be the smallest $x$\n",
    "    such that $1 + x \\neq 1$.\n",
    "  * (or sometimes, the largest $x$ such that $1 + x = 1$.)\n",
    "  * Machine epsilon is named after the mathematical term for\n",
    "  * a small positive number."
   ]
  },
  {
   "cell_type": "markdown",
   "metadata": {
    "nbpresent": {
     "id": "68a98c7a-c34d-42e8-8583-2e0464bba792"
    }
   },
   "source": [
    "You can find your approximate machine epsilon by repeatedly\n",
    "halving a number and testing it."
   ]
  },
  {
   "cell_type": "code",
   "execution_count": null,
   "metadata": {
    "nbpresent": {
     "id": "fd92c4b2-6cb7-4ece-b679-5dd61fa7fc28"
    }
   },
   "outputs": [],
   "source": [
    "def myepsilon():\n",
    " # Initialize our epsilon.\n",
    " eps = 1.0\n",
    " # Is (1 + eps) > 1?\n",
    " while (1. + eps) > 1.:\n",
    "  # If it is, divide and print it.\n",
    "  eps = eps / 2.\n",
    "  # Change the number of digits\n",
    "  # printed so we can see them\n",
    "  # all.\n",
    "  print('%1.8e %1.18f'%\n",
    "    (eps, (1. + eps)))"
   ]
  },
  {
   "cell_type": "code",
   "execution_count": null,
   "metadata": {
    "nbpresent": {
     "id": "f56f7679-77e7-4c81-9eb5-4abdaf32af6e"
    }
   },
   "outputs": [],
   "source": [
    "myepsilon()"
   ]
  },
  {
   "cell_type": "code",
   "execution_count": null,
   "metadata": {
    "nbpresent": {
     "id": "6b9d9ae4-0bde-438c-92be-4ba198f25ef8"
    }
   },
   "outputs": [],
   "source": [
    "import sys\n",
    "print(sys.float_info.epsilon)"
   ]
  },
  {
   "cell_type": "markdown",
   "metadata": {
    "nbpresent": {
     "id": "e14bc53b-029d-4926-a4fd-c986bd8f5ad2"
    }
   },
   "source": [
    "The epsilon is about 1e-16 for my desktop, as\n",
    "expected for double precision."
   ]
  },
  {
   "cell_type": "markdown",
   "metadata": {
    "nbpresent": {
     "id": "2a184a20-2da5-4b5c-bf9a-6287c63a6f75"
    }
   },
   "source": [
    "## The limits of precision: look out below!\n",
    "\n",
    "Problems will occur when the result of a calculation spans more\n",
    "orders of magnitude than the inverse of machine\n",
    "epsilon.\n",
    "\n",
    "Try the following:\n",
    "\n",
    "  * For the range of numbers between 0 and 2, repeatedly take\n",
    "    square roots of the numbers, then repeatedly square the\n",
    "    numbers.\n",
    "  * Plot the result, from 0..2.\n",
    "  * What should you get?  What do you get?\n",
    "  * Loss of precision in early stages of a calculation causes\n",
    "    problems."
   ]
  },
  {
   "cell_type": "code",
   "execution_count": null,
   "metadata": {
    "nbpresent": {
     "id": "e9d1cfaa-5b1e-42f7-8b4a-18d9f93c0b4b"
    }
   },
   "outputs": [],
   "source": [
    "from numpy import sqrt\n",
    "def sqrts(x):\n",
    "  #Make a copy of the argument.\n",
    "  y = x\n",
    "  #Repeatedly sqrt, then square.\n",
    "  for i in range(128):\n",
    "    y = sqrt(y)\n",
    "  for i in range(128):\n",
    "    y = y * y\n",
    "  return y"
   ]
  },
  {
   "cell_type": "code",
   "execution_count": null,
   "metadata": {
    "nbpresent": {
     "id": "5690e0bf-b668-4bac-9a3d-c6d3c942466c"
    }
   },
   "outputs": [],
   "source": [
    "from numpy import linspace\n",
    "from matplotlib.pyplot import plot,show\n",
    "x = linspace(0., 2., 50)\n",
    "y = sqrts(x)\n",
    "plot(x, y, 'o-');"
   ]
  },
  {
   "cell_type": "markdown",
   "metadata": {},
   "source": [
    "![](underflow_on_white.png)"
   ]
  },
  {
   "cell_type": "code",
   "execution_count": null,
   "metadata": {},
   "outputs": [],
   "source": [
    "from numpy import sqrt\n",
    "def sqrts(x):\n",
    " y = x\n",
    " for i in range(128):\n",
    "  y = sqrt(y)\n",
    "  print('%1i %1.16f'%(i,y))\n",
    " for i in range(128):\n",
    "  y = y * y\n",
    "  print('%1i %1.16f'%(i,y))\n",
    " return y"
   ]
  },
  {
   "cell_type": "code",
   "execution_count": null,
   "metadata": {
    "nbpresent": {
     "id": "edec647e-c44b-4665-968c-b8a395892945"
    }
   },
   "outputs": [],
   "source": [
    "sqrts(0.1)"
   ]
  },
  {
   "cell_type": "code",
   "execution_count": null,
   "metadata": {
    "nbpresent": {
     "id": "bd6a820f-0d52-4774-94b2-86522c7a425a"
    }
   },
   "outputs": [],
   "source": [
    "sqrts(1.9)"
   ]
  },
  {
   "cell_type": "markdown",
   "metadata": {},
   "source": [
    "If the argument is below 1, sqrt pushes it up to epsilon below 1.\n",
    "\n",
    "If the argument is above 1, sqrt pulls it down to exactly 1.\n",
    "   "
   ]
  },
  {
   "cell_type": "markdown",
   "metadata": {
    "nbpresent": {
     "id": "9ff6fe20-1d61-4bc7-9b4d-d2e4e6923400"
    }
   },
   "source": [
    "## Beware: catastrophic cancelation\n",
    "\n",
    "Be very wary of subtracting very similar numbers.\n",
    "    \n",
    "  * Problem: subtract 1.22 from 1.23.\n",
    "  * Assume that we only have a mantissa precision of 3, and\n",
    "    exponent precision of 2.\n",
    "  * By performing this subtraction, we eliminate most of the\n",
    "  information, and end up with `catastrophic cancellation'.\n",
    "  * We go from 3 significant digits to 1.\n",
    "  * Dangerous in intermediate results.\n",
    "\n",
    "\n",
    "<div>\n",
    "<img src=\"digitloss_on_white.png\" width=200/>\n",
    "</div>\n",
    "\n",
    "The same problem can occur when dividing large numbers."
   ]
  },
  {
   "cell_type": "markdown",
   "metadata": {
    "nbpresent": {
     "id": "3856540c-321b-422a-bf63-abbc15f3433b"
    }
   },
   "source": [
    "## Overflow\n",
    "\n",
    "Overflow occurs when the result of a calculation exceeds the\n",
    "memory size of the variable.\n",
    "      \n",
    "  * 8-bit integers have a range of -128 to 127.\n",
    "\n",
    "  * When Python calculates a quantity, it up-casts all of the\n",
    "    variables to the `largest' variable type in the calculation.\n",
    "\n",
    "      * int are converted to long ints\n",
    "      * ints are converted to floats\n",
    "      * single precision floats are converted to double.\n",
    "\n",
    "  * Always be sure to use variables that are big enough for\n",
    "    what you are doing."
   ]
  },
  {
   "cell_type": "code",
   "execution_count": null,
   "metadata": {
    "nbpresent": {
     "id": "e386a5a6-3ad5-4359-b87b-e74913e97327"
    }
   },
   "outputs": [],
   "source": [
    "from numpy import int8, int16\n",
    "a = int8(10)\n",
    "print( a )"
   ]
  },
  {
   "cell_type": "code",
   "execution_count": null,
   "metadata": {
    "nbpresent": {
     "id": "9b4ca23c-7bcc-418a-859a-98c6e935243c"
    }
   },
   "outputs": [],
   "source": [
    "print( a.dtype )"
   ]
  },
  {
   "cell_type": "code",
   "execution_count": null,
   "metadata": {
    "nbpresent": {
     "id": "800628dc-77ba-40f6-bd41-ae70e55ebdd7"
    }
   },
   "outputs": [],
   "source": [
    "print( type(a) )"
   ]
  },
  {
   "cell_type": "code",
   "execution_count": null,
   "metadata": {
    "nbpresent": {
     "id": "699e694c-53ec-4712-a957-9de57d472c94"
    }
   },
   "outputs": [],
   "source": [
    "print( a * a )"
   ]
  },
  {
   "cell_type": "code",
   "execution_count": null,
   "metadata": {
    "nbpresent": {
     "id": "57d76688-b6f6-4e1b-a13a-73f5577ec3e8"
    }
   },
   "outputs": [],
   "source": [
    "print( a * a * a )"
   ]
  },
  {
   "cell_type": "code",
   "execution_count": null,
   "metadata": {
    "nbpresent": {
     "id": "160144d5-4ed4-44e5-b941-dfa2f762205c"
    }
   },
   "outputs": [],
   "source": [
    "print( int8(1000) )"
   ]
  },
  {
   "cell_type": "code",
   "execution_count": null,
   "metadata": {
    "nbpresent": {
     "id": "32fb1878-6280-4cf9-b65a-4369278fa4c2"
    }
   },
   "outputs": [],
   "source": [
    "print( a * a * int16(a) )"
   ]
  },
  {
   "cell_type": "code",
   "execution_count": null,
   "metadata": {
    "nbpresent": {
     "id": "ac5fa092-036b-4605-a3c7-b9514eab53dd"
    }
   },
   "outputs": [],
   "source": [
    "print( a * float(a) * int16(a) )"
   ]
  },
  {
   "cell_type": "markdown",
   "metadata": {
    "nbpresent": {
     "id": "1dccea79-8518-4b27-9e63-f385202c0627"
    }
   },
   "source": [
    "## Underflow\n",
    "\n",
    "An underflow error is the opposite of an overflow error: you are\n",
    "attempting to make a number which is smaller than the variable\n",
    "can hold.\n",
    "\n",
    "  * 32-bit floats integers have a range of -3.4e38 to +3.4e38\n",
    "  * An overflow error will result if you attempt to go beyond\n",
    "    this range.\n",
    "  * An underflow error results if you try to go too small.\n",
    "         "
   ]
  },
  {
   "cell_type": "code",
   "execution_count": null,
   "metadata": {
    "nbpresent": {
     "id": "3b038b7f-4222-4990-9161-893184fbf253"
    }
   },
   "outputs": [],
   "source": [
    "from numpy import float32\n",
    "print(float32(-1e35))"
   ]
  },
  {
   "cell_type": "code",
   "execution_count": null,
   "metadata": {
    "nbpresent": {
     "id": "55d2fc26-cb03-4576-a170-06461c090c3e"
    }
   },
   "outputs": [],
   "source": [
    "print(float32(-1e44))"
   ]
  },
  {
   "cell_type": "code",
   "execution_count": null,
   "metadata": {
    "nbpresent": {
     "id": "3cd01476-81ae-4d2b-8949-98ed61fe775b"
    }
   },
   "outputs": [],
   "source": [
    "print(float32(1e-40))"
   ]
  },
  {
   "cell_type": "code",
   "execution_count": null,
   "metadata": {
    "nbpresent": {
     "id": "b898967b-410e-41ee-aca7-166dd9b9be16"
    }
   },
   "outputs": [],
   "source": [
    "print(float32(1e-44))"
   ]
  },
  {
   "cell_type": "code",
   "execution_count": null,
   "metadata": {
    "nbpresent": {
     "id": "9440689c-219f-4644-bd40-fdfed3ce283b"
    }
   },
   "outputs": [],
   "source": [
    "print(float32(1e-46))"
   ]
  },
  {
   "cell_type": "markdown",
   "metadata": {
    "nbpresent": {
     "id": "1ba25b03-1e5d-49c2-8805-81679d8b16b7"
    }
   },
   "source": [
    "## Summary: Things to remember\n",
    "  \n",
    "  * Integers are stored exactly.\n",
    "  \n",
    "  * Floating point numbers are, in general, NOT stored exactly.    \n",
    "    Rounding error will cause the number to be slightly off.\n",
    "    \n",
    "  * DO NOT test floating point numbers for equality.  Instead test\n",
    "    `(abs(a - b) < cutoff)`.\n",
    "    \n",
    "  * Know the approximate value of epsilon for the machine that you\n",
    "    are using.\n",
    "    \n",
    "  * Know the limits of your precision: if your calculations span\n",
    "    as many orders of magnitude as the inverse of epsilon you're going\n",
    "    to lose precision.\n",
    "    \n",
    "  * Try not to subtract floating point numbers that are very close\n",
    "    to one another.\n",
    "    \n",
    "  * Be aware of overflow and underflow: use variable sizes that\n",
    "    are appropriate for your problem."
   ]
  },
  {
   "cell_type": "code",
   "execution_count": null,
   "metadata": {
    "nbpresent": {
     "id": "edbb246b-246d-4a16-a996-eb33a44a4cb6"
    }
   },
   "outputs": [],
   "source": []
  }
 ],
 "metadata": {
  "kernelspec": {
   "display_name": "Python 3",
   "language": "python",
   "name": "python3"
  },
  "language_info": {
   "codemirror_mode": {
    "name": "ipython",
    "version": 3
   },
   "file_extension": ".py",
   "mimetype": "text/x-python",
   "name": "python",
   "nbconvert_exporter": "python",
   "pygments_lexer": "ipython3",
   "version": "3.6.4"
  }
 },
 "nbformat": 4,
 "nbformat_minor": 2
}
