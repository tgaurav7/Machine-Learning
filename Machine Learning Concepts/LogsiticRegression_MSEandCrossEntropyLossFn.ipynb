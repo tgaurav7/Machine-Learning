{
  "nbformat": 4,
  "nbformat_minor": 0,
  "metadata": {
    "colab": {
      "provenance": []
    },
    "kernelspec": {
      "name": "python3",
      "display_name": "Python 3"
    }
  },
  "cells": [
    {
      "cell_type": "code",
      "metadata": {
        "id": "3e_z8j6m4wQn"
      },
      "source": [
        "# imports\n",
        "import matplotlib\n",
        "import numpy as np\n",
        "import matplotlib.pyplot as plt\n",
        "%matplotlib inline\n",
        "import sklearn as sklearn\n",
        "from sklearn.datasets import load_iris"
      ],
      "execution_count": null,
      "outputs": []
    },
    {
      "cell_type": "code",
      "metadata": {
        "id": "YYBYNBF845q9",
        "colab": {
          "base_uri": "https://localhost:8080/",
          "height": 265
        },
        "outputId": "40dac7a6-8e83-4a37-99fd-2d8b4a4f018d"
      },
      "source": [
        "# generate a separable dataset\n",
        "separable = False\n",
        "while not separable:\n",
        "    sep_samples = sklearn.datasets.make_classification(n_samples=100, n_features=2, n_redundant=0, n_informative=1, n_clusters_per_class=1, flip_y=-1)\n",
        "    red = sep_samples[0][sep_samples[1] == 0]\n",
        "    blue = sep_samples[0][sep_samples[1] == 1]\n",
        "    separable = any([red[:, k].max() < blue[:, k].min() or red[:, k].min() > blue[:, k].max() for k in range(2)])\n",
        "plt.plot(red[:, 0], red[:, 1], 'r.')\n",
        "plt.plot(blue[:, 0], blue[:, 1], 'b.')\n",
        "plt.show()"
      ],
      "execution_count": null,
      "outputs": [
        {
          "output_type": "display_data",
          "data": {
            "image/png": "[encoded data removed]",
            "text/plain": [
              "<Figure size 432x288 with 1 Axes>"
            ]
          },
          "metadata": {
            "tags": [],
            "needs_background": "light"
          }
        }
      ]
    },
    {
      "cell_type": "code",
      "metadata": {
        "id": "V5k-_Acp5saq",
        "colab": {
          "base_uri": "https://localhost:8080/",
          "height": 265
        },
        "outputId": "a991888c-3bfe-4bae-ae67-c44f5ffe02b2"
      },
      "source": [
        "# generate a non-spearable dataset\n",
        "separable = True\n",
        "while separable:\n",
        "    nsep_samples = sklearn.datasets.make_classification(n_samples=100, n_features=2, n_redundant=0, n_informative=1, n_clusters_per_class=1, flip_y=-1)\n",
        "    red = nsep_samples[0][nsep_samples[1] == 0]\n",
        "    blue = nsep_samples[0][nsep_samples[1] == 1]\n",
        "    separable = any([red[:, k].max() < blue[:, k].min() or red[:, k].min() > blue[:, k].max() for k in range(2)])\n",
        "plt.plot(red[:, 0], red[:, 1], 'r.')\n",
        "plt.plot(blue[:, 0], blue[:, 1], 'b.')\n",
        "plt.show()"
      ],
      "execution_count": null,
      "outputs": [
        {
          "output_type": "display_data",
          "data": {
            "image/png": "[encoded data removed]",
            "text/plain": [
              "<Figure size 432x288 with 1 Axes>"
            ]
          },
          "metadata": {
            "tags": [],
            "needs_background": "light"
          }
        }
      ]
    },
    {
      "cell_type": "code",
      "metadata": {
        "id": "Gi_Xn924Gw0A"
      },
      "source": [],
      "execution_count": null,
      "outputs": []
    },
    {
      "cell_type": "code",
      "metadata": {
        "id": "BucLNZa01vzX"
      },
      "source": [
        "def ptrCE_gen(X, t, W, N, alpha):\n",
        "  X = np.concatenate((np.ones((t.size, 1)), X), 1)\n",
        "  for n in range(0, N, 1):\n",
        "    for i in range(0, t.size, 1):\n",
        "      z = sum(W*X[i, :])\n",
        "      y = 1./(1+np.exp(-z))\n",
        "      W = W - alpha*((-t[i]/y+((1-t[i])/(1-y)))*(y*(1-y)))*X[i, :]\n",
        "  cnt =0\n",
        "  for i in range(0, t.size, 1):\n",
        "    z = sum(W*X[i, :])\n",
        "    y = 1./(1+np.exp(-z))\n",
        "    if y<0.5:\n",
        "      c=0\n",
        "    else:\n",
        "      c=1\n",
        "\n",
        "    if(c!=t[i]):\n",
        "      print(\"mismatched[\", i, \"]\", c, t[i])\n",
        "      cnt+=1\n",
        "  print(cnt, \"mismatched\")\n",
        "  return W\n"
      ],
      "execution_count": null,
      "outputs": []
    },
    {
      "cell_type": "code",
      "metadata": {
        "id": "7cBV0Ox1UXin",
        "colab": {
          "base_uri": "https://localhost:8080/",
          "height": 1000
        },
        "outputId": "dce6d5cc-348c-4de6-b62e-e190dd777afa"
      },
      "source": [
        "# performing logistic regression classification for separable dataset\n",
        "W = [0, 0, 0]\n",
        "W = ptrCE_gen(sep_samples[0], sep_samples[1] , W, 1000, 0.5)\n",
        "print(W)\n",
        "\n",
        "red = sep_samples[0][sep_samples[1] == 0]\n",
        "blue = sep_samples[0][sep_samples[1] == 1]\n",
        "plt.plot(red[:, 0], red[:, 1], 'r.')\n",
        "plt.plot(blue[:, 0], blue[:, 1], 'b.')\n",
        "x_values = [np.min(sep_data[:, 0]), np.max(sep_data[:, 0])]\n",
        "y_values = np.dot((-1/W[2]), (np.dot(W[1], x_values)+W[0]))\n",
        "plt.plot(x_values, y_values, label='Decision Boundary')\n",
        "plt.show()"
      ],
      "execution_count": null,
      "outputs": [
        {
          "output_type": "stream",
          "text": [
            "/usr/local/lib/python3.6/dist-packages/ipykernel_launcher.py:7: RuntimeWarning: invalid value encountered in true_divide\n",
            "  import sys\n"
          ],
          "name": "stderr"
        },
        {
          "output_type": "stream",
          "text": [
            "mismatched[ 3 ] 1 0\n",
            "mismatched[ 6 ] 1 0\n",
            "mismatched[ 8 ] 1 0\n",
            "mismatched[ 9 ] 1 0\n",
            "mismatched[ 13 ] 1 0\n",
            "mismatched[ 14 ] 1 0\n",
            "mismatched[ 16 ] 1 0\n",
            "mismatched[ 17 ] 1 0\n",
            "mismatched[ 18 ] 1 0\n",
            "mismatched[ 19 ] 1 0\n",
            "mismatched[ 21 ] 1 0\n",
            "mismatched[ 23 ] 1 0\n",
            "mismatched[ 24 ] 1 0\n",
            "mismatched[ 26 ] 1 0\n",
            "mismatched[ 27 ] 1 0\n",
            "mismatched[ 28 ] 1 0\n",
            "mismatched[ 29 ] 1 0\n",
            "mismatched[ 32 ] 1 0\n",
            "mismatched[ 37 ] 1 0\n",
            "mismatched[ 38 ] 1 0\n",
            "mismatched[ 39 ] 1 0\n",
            "mismatched[ 40 ] 1 0\n",
            "mismatched[ 41 ] 1 0\n",
            "mismatched[ 42 ] 1 0\n",
            "mismatched[ 45 ] 1 0\n",
            "mismatched[ 47 ] 1 0\n",
            "mismatched[ 49 ] 1 0\n",
            "mismatched[ 51 ] 1 0\n",
            "mismatched[ 54 ] 1 0\n",
            "mismatched[ 55 ] 1 0\n",
            "mismatched[ 56 ] 1 0\n",
            "mismatched[ 57 ] 1 0\n",
            "mismatched[ 59 ] 1 0\n",
            "mismatched[ 61 ] 1 0\n",
            "mismatched[ 62 ] 1 0\n",
            "mismatched[ 63 ] 1 0\n",
            "mismatched[ 66 ] 1 0\n",
            "mismatched[ 67 ] 1 0\n",
            "mismatched[ 73 ] 1 0\n",
            "mismatched[ 74 ] 1 0\n",
            "mismatched[ 76 ] 1 0\n",
            "mismatched[ 81 ] 1 0\n",
            "mismatched[ 83 ] 1 0\n",
            "mismatched[ 85 ] 1 0\n",
            "mismatched[ 88 ] 1 0\n",
            "mismatched[ 90 ] 1 0\n",
            "mismatched[ 91 ] 1 0\n",
            "mismatched[ 92 ] 1 0\n",
            "mismatched[ 93 ] 1 0\n",
            "mismatched[ 99 ] 1 0\n",
            "50 mismatched\n",
            "[nan nan nan]\n"
          ],
          "name": "stdout"
        },
        {
          "output_type": "display_data",
          "data": {
            "image/png": "[encoded data removed]",
            "text/plain": [
              "<Figure size 432x288 with 1 Axes>"
            ]
          },
          "metadata": {
            "tags": [],
            "needs_background": "light"
          }
        }
      ]
    },
    {
      "cell_type": "code",
      "metadata": {
        "id": "31dWQ_cEUgQG",
        "colab": {
          "base_uri": "https://localhost:8080/",
          "height": 376
        },
        "outputId": "626342a7-c20a-4b01-d168-09070a40fbad"
      },
      "source": [
        "# performing logistic regression classification for separable dataset\n",
        "W = [0, 0, 0]\n",
        "W = ptrCE_gen(nsep_samples[0], nsep_samples[1] , W, 100, 0.0001)\n",
        "print(W)\n",
        "\n",
        "red = nsep_samples[0][nsep_samples[1] == 0]\n",
        "blue = nsep_samples[0][nsep_samples[1] == 1]\n",
        "plt.plot(red[:, 0], red[:, 1], 'r.')\n",
        "plt.plot(blue[:, 0], blue[:, 1], 'b.')\n",
        "x_values = [np.min(nsep_data[:, 0]), np.max(nsep_data[:, 0])]\n",
        "y_values = np.dot((-1/W[2]), (np.dot(W[1], x_values)+W[0]))\n",
        "plt.plot(x_values, y_values, label='Decision Boundary')\n",
        "plt.show()"
      ],
      "execution_count": null,
      "outputs": [
        {
          "output_type": "stream",
          "text": [
            "mismatched[ 36 ] 1 0\n",
            "mismatched[ 58 ] 0 1\n",
            "mismatched[ 76 ] 0 1\n",
            "mismatched[ 84 ] 1 0\n",
            "4 mismatched\n",
            "[0.00107691 0.02177758 0.40244656]\n"
          ],
          "name": "stdout"
        },
        {
          "output_type": "display_data",
          "data": {
            "image/png": "[encoded data removed]",
            "text/plain": [
              "<Figure size 432x288 with 1 Axes>"
            ]
          },
          "metadata": {
            "tags": [],
            "needs_background": "light"
          }
        }
      ]
    },
    {
      "cell_type": "code",
      "metadata": {
        "id": "LHUZKIKwABRV"
      },
      "source": [
        "# with logistic cross entropy\n",
        "def ptrLCE_gen(X, t, W, N, alpha):\n",
        "  X = np.concatenate((np.ones((t.size, 1)), X), 1)\n",
        "  for n in range(0, N, 1):\n",
        "    for i in range(0, t.size, 1):\n",
        "      z = sum(W*X[i, :])\n",
        "      y = 1./(1+np.exp(-z))\n",
        "      W = W - alpha*(y-t[i])*X[i, :]\n",
        "  cnt =0\n",
        "  for i in range(0, t.size, 1):\n",
        "    z = sum(W*X[i, :])\n",
        "    y = 1./(1+np.exp(-z))\n",
        "    if y<0.5:\n",
        "      c=0\n",
        "    else:\n",
        "      c=1\n",
        "\n",
        "    if(c!=t[i]):\n",
        "      print(\"mismatched[\", i, \"]\", c, t[i])\n",
        "      cnt+=1\n",
        "  print(cnt, \"mismatched\")\n",
        "  return W\n"
      ],
      "execution_count": null,
      "outputs": []
    },
    {
      "cell_type": "code",
      "metadata": {
        "id": "EaCgyfkh9mgl",
        "colab": {
          "base_uri": "https://localhost:8080/",
          "height": 302
        },
        "outputId": "c30ed8dc-0a83-44ce-af37-8db7798b27f5"
      },
      "source": [
        "# performing LCE classification for separable dataset\n",
        "W = [0, 0, 0]\n",
        "W = ptrLCE_gen(sep_samples[0], sep_samples[1] , W, 1000, 0.01)\n",
        "print(W)\n",
        "\n",
        "red = sep_samples[0][sep_samples[1] == 0]\n",
        "blue = sep_samples[0][sep_samples[1] == 1]\n",
        "plt.plot(red[:, 0], red[:, 1], 'r.')\n",
        "plt.plot(blue[:, 0], blue[:, 1], 'b.')\n",
        "x_values = [np.min(sep_data[:, 0]), np.max(sep_data[:, 0])]\n",
        "y_values = np.dot((-1/W[2]), (np.dot(W[1], x_values)+W[0]))\n",
        "plt.plot(x_values, y_values, label='Decision Boundary')\n",
        "plt.show()"
      ],
      "execution_count": null,
      "outputs": [
        {
          "output_type": "stream",
          "text": [
            "0 mismatched\n",
            "[2.77443304 8.55038293 0.25199606]\n"
          ],
          "name": "stdout"
        },
        {
          "output_type": "display_data",
          "data": {
            "image/png": "[encoded data removed]",
            "text/plain": [
              "<Figure size 432x288 with 1 Axes>"
            ]
          },
          "metadata": {
            "tags": [],
            "needs_background": "light"
          }
        }
      ]
    },
    {
      "cell_type": "code",
      "metadata": {
        "id": "LnzXXlc198pn",
        "colab": {
          "base_uri": "https://localhost:8080/",
          "height": 376
        },
        "outputId": "b1ce348e-1bac-4a78-c61a-dca16920b45f"
      },
      "source": [
        "# performing LCE classification for separable dataset\n",
        "W = [0, 0, 0]\n",
        "W = ptrLCE_gen(nsep_samples[0], nsep_samples[1] , W, 100, 0.0001)\n",
        "print(W)\n",
        "\n",
        "red = nsep_samples[0][nsep_samples[1] == 0]\n",
        "blue = nsep_samples[0][nsep_samples[1] == 1]\n",
        "plt.plot(red[:, 0], red[:, 1], 'r.')\n",
        "plt.plot(blue[:, 0], blue[:, 1], 'b.')\n",
        "x_values = [np.min(nsep_data[:, 0]), np.max(nsep_data[:, 0])]\n",
        "y_values = np.dot((-1/W[2]), (np.dot(W[1], x_values)+W[0]))\n",
        "plt.plot(x_values, y_values, label='Decision Boundary')\n",
        "plt.show()"
      ],
      "execution_count": null,
      "outputs": [
        {
          "output_type": "stream",
          "text": [
            "mismatched[ 36 ] 1 0\n",
            "mismatched[ 58 ] 0 1\n",
            "mismatched[ 76 ] 0 1\n",
            "mismatched[ 84 ] 1 0\n",
            "4 mismatched\n",
            "[0.00107691 0.02177758 0.40244656]\n"
          ],
          "name": "stdout"
        },
        {
          "output_type": "display_data",
          "data": {
            "image/png": "[encoded data removed]",
            "text/plain": [
              "<Figure size 432x288 with 1 Axes>"
            ]
          },
          "metadata": {
            "tags": [],
            "needs_background": "light"
          }
        }
      ]
    },
    {
      "cell_type": "code",
      "metadata": {
        "id": "yb-uWoFJS-qt"
      },
      "source": [],
      "execution_count": null,
      "outputs": []
    }
  ]
}