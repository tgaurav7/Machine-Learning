{
 "cells": [
  {
   "cell_type": "markdown",
   "metadata": {},
   "source": [
    "# Numerical Computing with Python\n",
    "# Lecture 1: NumPy and SciPy\n",
    "### Ramses van Zon and Alexey Fedoseev\n",
    "#### SciNet HPC Consortium, University of Toronto\n",
    "####  November 7, 2019"
   ]
  },
  {
   "cell_type": "code",
   "execution_count": 1,
   "metadata": {},
   "outputs": [
    {
     "data": {
      "text/html": [
       "<style> h1, h2 { color: #2a7bbd ! important; } h1 { font-size: 2.5em !important; }  </style>"
      ],
      "text/plain": [
       "<IPython.core.display.HTML object>"
      ]
     },
     "metadata": {},
     "output_type": "display_data"
    }
   ],
   "source": [
    "%%html\n",
    "<style> h1, h2 { color: #2a7bbd ! important; } h1 { font-size: 2.5em !important; }  </style>"
   ]
  },
  {
   "cell_type": "code",
   "execution_count": null,
   "metadata": {},
   "outputs": [],
   "source": [
    "%matplotlib inline"
   ]
  },
  {
   "cell_type": "markdown",
   "metadata": {},
   "source": [
    "## Python lists are not ideal for numerical arrays"
   ]
  },
  {
   "cell_type": "markdown",
   "metadata": {},
   "source": [
    "For numerical work, the python-native lists aren't the ideal data type.\n",
    "\n",
    "Lists can do funny things that you don't expect, if you're not\n",
    "careful.\n",
    "\n",
    "  * Lists are just a collection of items, of any type.\n",
    "  * If you do mathematical operations on a list, you won't get\n",
    "    what you expect.\n",
    "  * These are not the ideal data type for scientific computing.\n",
    "  * ****Arrays**** are a much better choice, but are not a native\n",
    "    Python data type."
   ]
  },
  {
   "cell_type": "code",
   "execution_count": null,
   "metadata": {},
   "outputs": [],
   "source": [
    "a = [1, 2, 3, 4]\n",
    "a"
   ]
  },
  {
   "cell_type": "code",
   "execution_count": null,
   "metadata": {},
   "outputs": [],
   "source": [
    "b = [3, 5, 5, 6]\n",
    "b"
   ]
  },
  {
   "cell_type": "code",
   "execution_count": null,
   "metadata": {},
   "outputs": [],
   "source": [
    "2 * a"
   ]
  },
  {
   "cell_type": "code",
   "execution_count": null,
   "metadata": {},
   "outputs": [],
   "source": [
    "a + b"
   ]
  },
  {
   "cell_type": "markdown",
   "metadata": {},
   "source": [
    "## Lists vs. Arrays"
   ]
  },
  {
   "cell_type": "markdown",
   "metadata": {},
   "source": [
    "**Lists**: optimized for flexibility\n",
    "\n",
    "  * Can hold any type\n",
    "  * Can grow\n",
    "  * Are one-dimensional\n",
    "  * Do not have out-of-the-box element-wise operations\n",
    "\n",
    "**Arrays**: optimized for speed\n",
    "\n",
    "  * Single type\n",
    "  * Fixed size\n",
    "  * Multi-dimensional\n",
    "  * Have optimized element-wise operations"
   ]
  },
  {
   "cell_type": "markdown",
   "metadata": {},
   "source": [
    "## Arrays are what we want to use: Numpy"
   ]
  },
  {
   "cell_type": "markdown",
   "metadata": {},
   "source": [
    "Almost everything that you want to do starts with NumPy.\n",
    "\n",
    "  * Contains arrays of various types and forms: zeros, ones,\n",
    "    linspace, *etc.*\n",
    "  * linspace takes 2 or 3 arguments, the default number of\n",
    "    entries is 50."
   ]
  },
  {
   "cell_type": "code",
   "execution_count": null,
   "metadata": {},
   "outputs": [],
   "source": [
    "import numpy"
   ]
  },
  {
   "cell_type": "code",
   "execution_count": null,
   "metadata": {},
   "outputs": [],
   "source": [
    "numpy.zeros(5)"
   ]
  },
  {
   "cell_type": "code",
   "execution_count": null,
   "metadata": {},
   "outputs": [],
   "source": [
    "numpy.ones(5, dtype = int)"
   ]
  },
  {
   "cell_type": "code",
   "execution_count": null,
   "metadata": {},
   "outputs": [],
   "source": [
    "numpy.zeros([2,2])"
   ]
  },
  {
   "cell_type": "code",
   "execution_count": null,
   "metadata": {},
   "outputs": [],
   "source": [
    "numpy.arange(5)"
   ]
  },
  {
   "cell_type": "code",
   "execution_count": null,
   "metadata": {},
   "outputs": [],
   "source": [
    "numpy.linspace(1,5)"
   ]
  },
  {
   "cell_type": "code",
   "execution_count": null,
   "metadata": {},
   "outputs": [],
   "source": [
    "numpy.linspace(1, 5, 6)"
   ]
  },
  {
   "cell_type": "markdown",
   "metadata": {},
   "source": [
    "## Specifying data types"
   ]
  },
  {
   "cell_type": "code",
   "execution_count": null,
   "metadata": {},
   "outputs": [],
   "source": [
    "x = numpy.float32(7.4e-3)\n",
    "a = numpy.array([[1,2,3],[4,5,6]],dtype=numpy.float32)\n",
    "a"
   ]
  },
  {
   "cell_type": "code",
   "execution_count": null,
   "metadata": {},
   "outputs": [],
   "source": [
    "b = numpy.ndarray((2,3),dtype=numpy.float16)\n",
    "b"
   ]
  },
  {
   "cell_type": "markdown",
   "metadata": {},
   "source": [
    "  * Integers:    \n",
    "    `int8 int16 int32` `int64` `uint8 uint16 uint32 uint64`    \n",
    "    Number indicates number of bits.\n",
    "  * Floats of half, single and double precision:  `float16 float32` `float64`\n",
    "  * Complex numbers in single and double precision: `complex64` `complex128`"
   ]
  },
  {
   "cell_type": "markdown",
   "metadata": {},
   "source": [
    "## Accessing array elements\n",
    "  \n",
    "Elements of arrays are accessed using square brackets.\n",
    "\n",
    "  * Like most languages, the first index is the row, the second is the\n",
    "    column.\n",
    "\n",
    "  * Indexing starts at 0.\n",
    "\n",
    "  * You cannot assign values outside the index range (unlike e.g. in  R).\n",
    "\n",
    "*Note: `import numpy as np` renames the `numpy` module to the shorter `np`.*"
   ]
  },
  {
   "cell_type": "code",
   "execution_count": 3,
   "metadata": {},
   "outputs": [
    {
     "data": {
      "text/plain": [
       "array([[0., 0., 0.],\n",
       "       [0., 0., 0.]])"
      ]
     },
     "execution_count": 3,
     "metadata": {},
     "output_type": "execute_result"
    }
   ],
   "source": [
    "import numpy as np  \n",
    "np.zeros([2, 3])"
   ]
  },
  {
   "cell_type": "code",
   "execution_count": null,
   "metadata": {},
   "outputs": [],
   "source": [
    "a = np.zeros([2,3])\n",
    "a[1,2] = 1\n",
    "a[0,1] = 2\n",
    "a"
   ]
  },
  {
   "cell_type": "code",
   "execution_count": null,
   "metadata": {},
   "outputs": [],
   "source": [
    "a[2,1] = 1"
   ]
  },
  {
   "cell_type": "markdown",
   "metadata": {},
   "source": [
    "## Slicing arrays"
   ]
  },
  {
   "cell_type": "markdown",
   "metadata": {},
   "source": [
    "You can select a subset of an numpy array by using an **index range** instead of a single number between square brackets. This is called **slicing**.\n",
    "\n",
    "  * An index range looks like \"a:b\",  e.g. \"2:4\". So `a[2:4]` selects those elements of an array `a`.\n",
    "\n",
    "  * Read \"2:4\" as \"from the beginning of the element at index 2, to\n",
    "    the beginning of that at index 4\".\n",
    "\n",
    "  * Or read it as: index 2 is the first you get, index 4 is the first you do not get.\n",
    "  \n",
    "  * Negative indexing is supported.\n",
    "  * If a third index is specified, it refers to the step size\n",
    "    (\"1:10:2\", for example).\n",
    "  * If no index is specifed, either \"beginning\" or \"end\" is\n",
    "    assumed.\n",
    "      "
   ]
  },
  {
   "cell_type": "code",
   "execution_count": 4,
   "metadata": {},
   "outputs": [
    {
     "name": "stdout",
     "output_type": "stream",
     "text": [
      "3\n"
     ]
    }
   ],
   "source": [
    "a = np.array([1,2,3,4,5,6,7])\n",
    "print(a[2])"
   ]
  },
  {
   "cell_type": "code",
   "execution_count": null,
   "metadata": {},
   "outputs": [],
   "source": [
    "print(a[2:4])"
   ]
  },
  {
   "cell_type": "code",
   "execution_count": 6,
   "metadata": {},
   "outputs": [
    {
     "name": "stdout",
     "output_type": "stream",
     "text": [
      "[1 4 7]\n"
     ]
    }
   ],
   "source": [
    "print(a[::3])"
   ]
  },
  {
   "cell_type": "markdown",
   "metadata": {},
   "source": [
    "Elements in an array can also be selected using a boolean array.  Boolean arrays can be created using a conditional expression."
   ]
  },
  {
   "cell_type": "code",
   "execution_count": null,
   "metadata": {},
   "outputs": [],
   "source": [
    "a = np.arange(5)\n",
    "a"
   ]
  },
  {
   "cell_type": "code",
   "execution_count": null,
   "metadata": {},
   "outputs": [],
   "source": [
    "a > 2"
   ]
  },
  {
   "cell_type": "code",
   "execution_count": null,
   "metadata": {},
   "outputs": [],
   "source": [
    "a[a > 2]"
   ]
  },
  {
   "cell_type": "code",
   "execution_count": null,
   "metadata": {},
   "outputs": [],
   "source": [
    "a[(a % 2) == 0]"
   ]
  },
  {
   "cell_type": "markdown",
   "metadata": {},
   "source": [
    "Note: The \"%\" symbol is the modulus operator."
   ]
  },
  {
   "cell_type": "markdown",
   "metadata": {},
   "source": [
    "# Copying arrays\n",
    "\n",
    "Use caution when copying array variables.  There's a 'sharing feature'\n",
    "here that is unexpected."
   ]
  },
  {
   "cell_type": "code",
   "execution_count": null,
   "metadata": {},
   "outputs": [],
   "source": [
    "a = 10\n",
    "b = a\n",
    "a = 20\n",
    "a, b"
   ]
  },
  {
   "cell_type": "code",
   "execution_count": null,
   "metadata": {},
   "outputs": [],
   "source": [
    "a = np.array([[1,2,3],[2,3,4]])\n",
    "b = a\n",
    "a[1,0] = -10\n",
    "a"
   ]
  },
  {
   "cell_type": "code",
   "execution_count": null,
   "metadata": {},
   "outputs": [],
   "source": [
    "b"
   ]
  },
  {
   "cell_type": "markdown",
   "metadata": {},
   "source": [
    "To turn off this 'sharing feature', use `copy`"
   ]
  },
  {
   "cell_type": "code",
   "execution_count": null,
   "metadata": {},
   "outputs": [],
   "source": [
    "b = a.copy()\n",
    "a[1,0] = 16\n",
    "a"
   ]
  },
  {
   "cell_type": "code",
   "execution_count": null,
   "metadata": {},
   "outputs": [],
   "source": [
    "b"
   ]
  },
  {
   "cell_type": "markdown",
   "metadata": {},
   "source": [
    "# Matrix arithmetic"
   ]
  },
  {
   "cell_type": "markdown",
   "metadata": {},
   "source": [
    "## Looping over arrays\n",
    "  \n",
    "  * In Python, loops over arrays are performed over the first\n",
    "    index.\n",
    "\n",
    "  * To go over all elements of a multidimensional array `a` without using nested loops, use\n",
    "    `a.ravel()` or `a.flat` \n",
    "\n",
    "    (or `a.flatten()` if you need a copy)."
   ]
  },
  {
   "cell_type": "code",
   "execution_count": null,
   "metadata": {},
   "outputs": [],
   "source": [
    "a = np.array([1,2,3])\n",
    "for i in a:\n",
    "    print(\"element:\", i)"
   ]
  },
  {
   "cell_type": "code",
   "execution_count": null,
   "metadata": {},
   "outputs": [],
   "source": [
    "a = np.array([[1,2],[3,4]])\n",
    "for i in a: \n",
    "    print(\"element:\", i)"
   ]
  },
  {
   "cell_type": "code",
   "execution_count": null,
   "metadata": {},
   "outputs": [],
   "source": [
    "for i in a.ravel(): \n",
    "    print(\"element:\", i)"
   ]
  },
  {
   "cell_type": "markdown",
   "metadata": {},
   "source": [
    "## Shape and reshape\n",
    "   \n",
    "  * NumPy allows you to modify the shape of an array once it\n",
    "    already exists.\n",
    "\n",
    "  * Though, of course, you can only change the shape to one which\n",
    "    contains the same number of elements.\n",
    "\n",
    "  * Also, note that `reshape` creates a new view of the\n",
    "    array data, and doesn't change the shape of the original array."
   ]
  },
  {
   "cell_type": "code",
   "execution_count": null,
   "metadata": {},
   "outputs": [],
   "source": [
    "a = np.arange(8)\n",
    "a.shape"
   ]
  },
  {
   "cell_type": "code",
   "execution_count": null,
   "metadata": {},
   "outputs": [],
   "source": [
    "a.reshape([2,4])"
   ]
  },
  {
   "cell_type": "code",
   "execution_count": null,
   "metadata": {},
   "outputs": [],
   "source": [
    "a.reshape([2,4]).shape"
   ]
  },
  {
   "cell_type": "code",
   "execution_count": null,
   "metadata": {},
   "outputs": [],
   "source": [
    "a.reshape([2,3])"
   ]
  },
  {
   "cell_type": "markdown",
   "metadata": {},
   "source": [
    "## Vector-vector & vector-scalar multiplication\n",
    "   \n",
    "1-D arrays are often called 'vectors'.\n",
    "\n",
    "  * When vectors are multiplied you get element-by-element\n",
    "    multiplication.\n",
    "  * When vectors are multiplied by a scalar, you\n",
    "    also get element-wise multiplication."
   ]
  },
  {
   "cell_type": "code",
   "execution_count": null,
   "metadata": {},
   "outputs": [],
   "source": [
    "a = np.arange(4)\n",
    "a"
   ]
  },
  {
   "cell_type": "code",
   "execution_count": null,
   "metadata": {},
   "outputs": [],
   "source": [
    "b = np.arange(4.) + 3\n",
    "b"
   ]
  },
  {
   "cell_type": "code",
   "execution_count": null,
   "metadata": {},
   "outputs": [],
   "source": [
    "c = 2\n",
    "c"
   ]
  },
  {
   "cell_type": "code",
   "execution_count": null,
   "metadata": {},
   "outputs": [],
   "source": [
    "a * b"
   ]
  },
  {
   "cell_type": "code",
   "execution_count": null,
   "metadata": {},
   "outputs": [],
   "source": [
    "a * c"
   ]
  },
  {
   "cell_type": "code",
   "execution_count": null,
   "metadata": {},
   "outputs": [],
   "source": [
    "b * c"
   ]
  },
  {
   "cell_type": "markdown",
   "metadata": {},
   "source": [
    "## Peculiar matrix-vector multiplication\n",
    "\n",
    "A 2-D array is sometimes called a 'matrix'.\n",
    "\n",
    "  * Matrix-scalar multiplication gives element-wise\n",
    "    multiplication.\n",
    "  * Matrix-vector multiplication DOES NOT give the\n",
    "    standard result!"
   ]
  },
  {
   "cell_type": "code",
   "execution_count": null,
   "metadata": {},
   "outputs": [],
   "source": [
    "a = np.array([[1,2,3],[2,3,4]])\n",
    "b = np.array([1, 2, 3])\n",
    "a * b"
   ]
  },
  {
   "cell_type": "markdown",
   "metadata": {},
   "source": [
    "Normal matrix-vector multiplication:\n",
    "$$\n",
    "\\begin{bmatrix}\n",
    "  a_{11} & a_{12} & a_{13}  \\\\\n",
    "  a_{21} & a_{22} & a_{23}\n",
    "\\end{bmatrix} \\cdot\n",
    "\\begin{bmatrix}\n",
    "  b_1  \\\\\n",
    "  b_2  \\\\\n",
    "  b_3 \n",
    "\\end{bmatrix}\n",
    "=\n",
    "\\begin{bmatrix}\n",
    "  a_{11} \\cdot b_1 + a_{12} \\cdot b_2 +  a_{13} \\cdot b_3\\\\\n",
    "  a_{21} \\cdot b_1 + a_{22} \\cdot b_2 +  a_{23} \\cdot b_3\n",
    "\\end{bmatrix}\n",
    "$$\n",
    "\n",
    "Python matrix-vector multiplication:\n",
    "$$\n",
    "\\begin{bmatrix}\n",
    "  a_{11} & a_{12} & a_{13}  \\\\\n",
    "  a_{21} & a_{22} & a_{23}\n",
    "\\end{bmatrix} \\cdot\n",
    "\\begin{bmatrix}\n",
    "  b_1  \\\\\n",
    "  b_2  \\\\\n",
    "  b_3 \n",
    "\\end{bmatrix}\n",
    "=\n",
    "\\begin{bmatrix}\n",
    "  a_{11} \\cdot b_1 & a_{12} \\cdot b_2 &  a_{13} \\cdot b_3\\\\\n",
    "  a_{21} \\cdot b_1 & a_{22} \\cdot b_2 &  a_{23} \\cdot b_3\n",
    "\\end{bmatrix}\n",
    "$$"
   ]
  },
  {
   "cell_type": "markdown",
   "metadata": {},
   "source": [
    "## Vector broadcasting\n",
    "\n",
    "This peculiar multiplication is result of element-wise operations plus **broadcasting**.\n",
    "\n",
    "Python will perform vector broadcasting if you perform a matrix-vector operation:\n",
    "      \n",
    "  * Python will repeatedly apply the vector to the matrix.\n",
    "  * Python will not do this with vector-vector operations.\n",
    "  * The length of the vector must equal the last dimension of the matrix.\n",
    "  * By default it will do the application by row; use\n",
    "    'np.newaxis' to reshape the vector."
   ]
  },
  {
   "cell_type": "code",
   "execution_count": null,
   "metadata": {},
   "outputs": [],
   "source": [
    "a = np.zeros([2,3])\n",
    "a + np.arange(3)"
   ]
  },
  {
   "cell_type": "code",
   "execution_count": null,
   "metadata": {},
   "outputs": [],
   "source": [
    "a + np.arange(2)"
   ]
  },
  {
   "cell_type": "code",
   "execution_count": null,
   "metadata": {},
   "outputs": [],
   "source": [
    "a + np.arange(2)[:,np.newaxis]"
   ]
  },
  {
   "cell_type": "markdown",
   "metadata": {},
   "source": [
    "## Broadcasting rules\n",
    "\n",
    "Dimensions are stretched if they are ``compatible''.\n",
    "\n",
    "Start with the trailing dimensions, and move to the left.\n",
    "\n",
    "If the dimensions are equal, or one of them is 1, or one is missing, they are compatible.\n",
    "\n",
    "![](array-broadcasting.png)\n"
   ]
  },
  {
   "cell_type": "markdown",
   "metadata": {},
   "source": [
    "## Matrix-matrix multiplication\n",
    "   \n",
    "Not surprisingly, matrix-matrix multiplication doesn't work as\n",
    "expected either, instead doing an element-wise multiplication like\n",
    "with vector-vector multiplication."
   ]
  },
  {
   "cell_type": "code",
   "execution_count": null,
   "metadata": {},
   "outputs": [],
   "source": [
    "a = np.array([[1,2,3],[2,3,4]])\n",
    "b = np.array([[1,2,3],[2,3,4]])\n",
    "a"
   ]
  },
  {
   "cell_type": "code",
   "execution_count": null,
   "metadata": {},
   "outputs": [],
   "source": [
    "a * b"
   ]
  },
  {
   "cell_type": "markdown",
   "metadata": {},
   "source": [
    "Normal matrix-matrix multiplication:\n",
    "\n",
    "$$\n",
    "  \\begin{bmatrix} \n",
    "      a_{11} & a_{12} \\\\\n",
    "      a_{21} & a_{22}\n",
    "  \\end{bmatrix} \\cdot \n",
    "  \\begin{bmatrix} \n",
    "    b_{11} & b_{12} \\\\\n",
    "    b_{21} & b_{22} \n",
    "  \\end{bmatrix}\n",
    "  = \n",
    "  \\begin{bmatrix} \n",
    "      a_{11} \\cdot b_{11} + a_{12} \\cdot b_{21} &  a_{11} \\cdot b_{12} + a_{12} \\cdot b_{22}\\\\\n",
    "      a_{21} \\cdot b_{11} + a_{22} \\cdot b_{21} &  a_{21} \\cdot b_{12} + a_{22} \\cdot b_{22}\n",
    "    \\end{bmatrix}\n",
    "$$\n",
    "\n",
    "Python matrix-vector multiplication:\n",
    "\n",
    "$$\n",
    "  \\begin{bmatrix} \n",
    "      a_{11} & a_{12} \\\\\n",
    "      a_{21} & a_{22}\n",
    "  \\end{bmatrix} \\cdot \n",
    "  \\begin{bmatrix} \n",
    "    b_{11} & b_{12} \\\\\n",
    "    b_{21} & b_{22} \n",
    "  \\end{bmatrix}\n",
    "  = \n",
    "  \\begin{bmatrix} \n",
    "      a_{11} \\cdot b_{11} &  a_{12} \\cdot b_{12}\\\\\n",
    "      a_{21} \\cdot b_{21} &  a_{22} \\cdot b_{22}\n",
    "    \\end{bmatrix}\n",
    "$$"
   ]
  },
  {
   "cell_type": "markdown",
   "metadata": {},
   "source": [
    "## How then to perform matrix algebra?\n",
    "  \n",
    "Since Python 3.5, the standard way is to use numpy arrays in conjuction with the @ product operator.\n",
    "Alternatively, you can use the dot function from SciPy."
   ]
  },
  {
   "cell_type": "code",
   "execution_count": 7,
   "metadata": {},
   "outputs": [
    {
     "data": {
      "text/plain": [
       "array([[1, 2, 3],\n",
       "       [2, 3, 4]])"
      ]
     },
     "execution_count": 7,
     "metadata": {},
     "output_type": "execute_result"
    }
   ],
   "source": [
    "import scipy as sp\n",
    "a = np.array([[1,2,3],[2,3,4]])\n",
    "b = np.array([[1,2,3],[2,3,4]])\n",
    "a"
   ]
  },
  {
   "cell_type": "code",
   "execution_count": null,
   "metadata": {},
   "outputs": [],
   "source": [
    "a.T  # or a.transpose()"
   ]
  },
  {
   "cell_type": "code",
   "execution_count": 8,
   "metadata": {},
   "outputs": [
    {
     "data": {
      "text/plain": [
       "array([[ 5,  8, 11],\n",
       "       [ 8, 13, 18],\n",
       "       [11, 18, 25]])"
      ]
     },
     "execution_count": 8,
     "metadata": {},
     "output_type": "execute_result"
    }
   ],
   "source": [
    "a.T @ b  # or: sp.dot(a.T, b)"
   ]
  },
  {
   "cell_type": "code",
   "execution_count": null,
   "metadata": {},
   "outputs": [],
   "source": [
    "b @ a.T  # or: sp.dot(b, a.T)"
   ]
  },
  {
   "cell_type": "code",
   "execution_count": null,
   "metadata": {},
   "outputs": [],
   "source": [
    "c = np.arange(3) + 1\n",
    "a @ c # or: sp.dot(a,c)"
   ]
  },
  {
   "cell_type": "markdown",
   "metadata": {},
   "source": [
    "# Linalg Submodule of SciPy\n",
    "  \n",
    "The linalg submodule of SciPy contains useful functions for matrix algebra.\n",
    "\n",
    "  * Typical matrix functions: inv, det, norm...\n",
    "  * More advanced functions: eig, SVD, cholesky...\n",
    "  * Both NumPy and SciPy have a linalg module.  Use SciPy,\n",
    "    because it is compiled with optimized BLAS/LAPACK support."
   ]
  },
  {
   "cell_type": "code",
   "execution_count": null,
   "metadata": {},
   "outputs": [],
   "source": [
    "import numpy as np\n",
    "import scipy as sp\n",
    "import scipy.linalg as linalg \n",
    "a = np.array([[1,2,3], [3,4,5], [1,1,2]])\n",
    "linalg.det(a)"
   ]
  },
  {
   "cell_type": "code",
   "execution_count": null,
   "metadata": {},
   "outputs": [],
   "source": [
    "a @ linalg.inv(a)"
   ]
  },
  {
   "cell_type": "markdown",
   "metadata": {},
   "source": [
    "## Solving systems of equations\n",
    "\n",
    "\n",
    "The linalg submodule of scipy comes with an important function: solve.\n",
    "      \n",
    "linalg.solve is used to solve the system of equations $Ax = b$."
   ]
  },
  {
   "cell_type": "code",
   "execution_count": null,
   "metadata": {},
   "outputs": [],
   "source": [
    "a = np.array([[1,2,3], [3,4,5], [1,1,2]])\n",
    "a"
   ]
  },
  {
   "cell_type": "code",
   "execution_count": null,
   "metadata": {},
   "outputs": [],
   "source": [
    "b = np.array([3, 4, 2])\n",
    "b"
   ]
  },
  {
   "cell_type": "code",
   "execution_count": null,
   "metadata": {},
   "outputs": [],
   "source": [
    "x = linalg.solve(a, b)\n",
    "x"
   ]
  },
  {
   "cell_type": "markdown",
   "metadata": {},
   "source": [
    "Here \n",
    "$$\n",
    "  \\begin{bmatrix} \n",
    "    1 & 2 & 3\\\\  \n",
    "    3 & 4 & 5  \\\\\n",
    "    1 & 1 & 2\\\\\n",
    "\\end{bmatrix} \\cdot\n",
    "\\begin{bmatrix} \n",
    "x[0]  \\\\\n",
    "x[1]  \\\\\n",
    "x[2]\n",
    "\\end{bmatrix}\n",
    "=\n",
    "\\begin{bmatrix} \n",
    "3\\\\\n",
    "4\\\\\n",
    "2\n",
    "\\end{bmatrix}\n",
    "$$\n",
    "\n",
    "is solved by\n",
    "\n",
    "$$\n",
    "  \\begin{bmatrix} \n",
    "    1 & 2 & 3\\\\  \n",
    "    3 & 4 & 5  \\\\\n",
    "    1 & 1 & 2\\\\\n",
    "\\end{bmatrix} \\cdot\n",
    "\\begin{bmatrix} \n",
    "-0.5  \\\\\n",
    "-0.5  \\\\\n",
    "1.5\n",
    "\\end{bmatrix}\n",
    "=\n",
    "\\begin{bmatrix} \n",
    "3\\\\\n",
    "4\\\\\n",
    "2\n",
    "\\end{bmatrix}\n",
    "$$"
   ]
  },
  {
   "cell_type": "markdown",
   "metadata": {},
   "source": [
    "# Statistics\n",
    "\n",
    "SciPy contains all of the statistical functions that you'll\n",
    "probably ever need.\n",
    "  \n",
    "  * The scipy.stats module is based around the idea of a 'random\n",
    "    variable' type.\n",
    "    \n",
    "  * A whole variety of standard distributions are available:\n",
    "    \n",
    "      * Continuous distributions: Normal, Maxwell, Cauchy,\n",
    "        Chi-squared, Gumbel Left-scewed, Gilbrat, Nakagami, ...\n",
    "      * Discrete distributions: Poisson, Binomial,\n",
    "        Geometric, Bernoulli, ...\n",
    "    \n",
    "  * The random variables have all of the statistical\n",
    "    properties of the distributions built into them already: cdf,\n",
    "    pdf, mean, variance, moments, ..."
   ]
  },
  {
   "cell_type": "markdown",
   "metadata": {},
   "source": [
    "## Normal statistics"
   ]
  },
  {
   "cell_type": "code",
   "execution_count": 10,
   "metadata": {},
   "outputs": [
    {
     "data": {
      "image/png": "[encoded data removed]",
      "text/plain": [
       "<Figure size 432x288 with 1 Axes>"
      ]
     },
     "metadata": {},
     "output_type": "display_data"
    }
   ],
   "source": [
    "import numpy as np, scipy as sp\n",
    "import matplotlib.pyplot as plt\n",
    "import scipy.stats as stats\n",
    "x = np.linspace(-5, 5, 100)\n",
    "plt.plot(x,stats.norm.pdf(x))\n",
    "plt.plot(x,stats.norm.pdf(x,loc=1))\n",
    "plt.plot(x,stats.norm.pdf(x,loc=-1,scale=2));"
   ]
  },
  {
   "cell_type": "markdown",
   "metadata": {},
   "source": [
    "All continuous distributions take `loc` and `scale` as keyword\n",
    "parameters to adjust the location and scale of the distribution.\n",
    "In general the distribution of a random variable `X` is obtained\n",
    "from `(X - loc) / scale`.  The default values are `loc = 0` and\n",
    "`scale = 1`."
   ]
  },
  {
   "cell_type": "markdown",
   "metadata": {},
   "source": [
    "## More normal statistics"
   ]
  },
  {
   "cell_type": "code",
   "execution_count": null,
   "metadata": {},
   "outputs": [],
   "source": [
    "stats.norm.mean(loc = -1, scale = 2)"
   ]
  },
  {
   "cell_type": "code",
   "execution_count": null,
   "metadata": {},
   "outputs": [],
   "source": [
    "stats.norm.std(loc = -1, scale = 2)"
   ]
  },
  {
   "cell_type": "code",
   "execution_count": null,
   "metadata": {},
   "outputs": [],
   "source": [
    "stats.norm.moment(3, loc = -1, scale = 2)"
   ]
  },
  {
   "cell_type": "code",
   "execution_count": 11,
   "metadata": {},
   "outputs": [
    {
     "data": {
      "image/png": "[encoded data removed]",
      "text/plain": [
       "<Figure size 432x288 with 1 Axes>"
      ]
     },
     "metadata": {},
     "output_type": "display_data"
    }
   ],
   "source": [
    "samples = stats.norm.rvs(size = 1000, loc = -1, scale = 2)\n",
    "plt.hist(samples, bins=41, density=True)\n",
    "plt.plot(x, stats.norm.pdf(x, loc = -1, scale = 2), 'c', linewidth = 2);"
   ]
  },
  {
   "cell_type": "markdown",
   "metadata": {},
   "source": [
    "## Setting the seed\n",
    " \n",
    "Sometimes you need consistency in your randomness:\n",
    "       \n",
    "  * Pseudo-random numbers are generated from an initial\n",
    "    'seed'.\n",
    "  * This seed generates the first number, which is then used\n",
    "    as the seed for the second number.\n",
    "  * If you need consistency in your random numbers (for\n",
    "    debugging, for example), you can set the seed explicitly so\n",
    "    that you get the same random numbers every time.\n",
    "  * Be careful using this for production!"
   ]
  },
  {
   "cell_type": "code",
   "execution_count": null,
   "metadata": {},
   "outputs": [],
   "source": [
    "stats.norm.rvs()"
   ]
  },
  {
   "cell_type": "code",
   "execution_count": null,
   "metadata": {},
   "outputs": [],
   "source": [
    "stats.norm.rvs()"
   ]
  },
  {
   "cell_type": "code",
   "execution_count": null,
   "metadata": {},
   "outputs": [],
   "source": [
    "np.random.seed(1)\n",
    "stats.norm.rvs()"
   ]
  },
  {
   "cell_type": "code",
   "execution_count": null,
   "metadata": {},
   "outputs": [],
   "source": [
    "sp.random.seed(1)\n",
    "stats.norm.rvs()"
   ]
  },
  {
   "cell_type": "code",
   "execution_count": null,
   "metadata": {},
   "outputs": [],
   "source": [
    "import random as rd\n",
    "rd.seed(1)\n",
    "stats.norm.rvs()"
   ]
  },
  {
   "cell_type": "markdown",
   "metadata": {},
   "source": [
    "## Random versus numpy.random\n",
    "  \n",
    "You may notice that there are several random packages: `random`,\n",
    "`numpy.random` and `scipy.random`.  What's the difference?\n",
    "    \n",
    "  * scipy.random and numpy.random are the same.\n",
    "  * The `random` package is not connected to the others.\n",
    "  * The numpy.random package affects numpy and scipy\n",
    "    routines; the `random` package does not.\n",
    "  * All use the same algorithm (Mersenne Twister).\n",
    "  * The `random.seed()` is thread safe, while numpy's and scipy's `random.seed()`\n",
    "    are not.\n",
    "  * The `numpy.random` package contains more functionality.\n",
    "  * Unless you need your code to be thread-safe (rarely in python), use\n",
    "    `numpy.random`."
   ]
  },
  {
   "cell_type": "markdown",
   "metadata": {},
   "source": [
    "## Statistics, a discrete example: Poisson "
   ]
  },
  {
   "cell_type": "code",
   "execution_count": null,
   "metadata": {},
   "outputs": [],
   "source": [
    "x = np.arange(10)\n",
    "plt.plot(x, stats.poisson.pmf(x, 4),'o-')\n",
    "plt.plot(x, stats.poisson.cdf(x, 4))"
   ]
  },
  {
   "cell_type": "code",
   "execution_count": null,
   "metadata": {},
   "outputs": [],
   "source": [
    "stats.poisson.mean(4)"
   ]
  },
  {
   "cell_type": "code",
   "execution_count": null,
   "metadata": {},
   "outputs": [],
   "source": [
    "stats.poisson.var(4)"
   ]
  },
  {
   "cell_type": "markdown",
   "metadata": {},
   "source": [
    "Note that discrete distributions have Probability Mass Functions\n",
    "(PMF) instead of Probability Density Functions (PDF)."
   ]
  },
  {
   "cell_type": "markdown",
   "metadata": {},
   "source": [
    "## Polynomial fitting"
   ]
  },
  {
   "cell_type": "code",
   "execution_count": 12,
   "metadata": {},
   "outputs": [
    {
     "data": {
      "text/plain": [
       "array([ 0.86205106, 26.30050891])"
      ]
     },
     "execution_count": 12,
     "metadata": {},
     "output_type": "execute_result"
    }
   ],
   "source": [
    "x = np.arange(50.)\n",
    "y = x + 50.0 * np.random.random(50)\n",
    "\n",
    "fit = np.polyfit(x, y, 1)\n",
    "fit"
   ]
  },
  {
   "cell_type": "code",
   "execution_count": 13,
   "metadata": {},
   "outputs": [
    {
     "data": {
      "image/png": "[encoded data removed]",
      "text/plain": [
       "<Figure size 432x288 with 1 Axes>"
      ]
     },
     "metadata": {},
     "output_type": "display_data"
    }
   ],
   "source": [
    "plt.plot(x, y, 'o')  \n",
    "plt.plot(x, np.polyval(fit, x));"
   ]
  },
  {
   "cell_type": "code",
   "execution_count": 14,
   "metadata": {},
   "outputs": [],
   "source": [
    "fit = np.polyfit(x, y, 2)"
   ]
  },
  {
   "cell_type": "code",
   "execution_count": 15,
   "metadata": {},
   "outputs": [
    {
     "data": {
      "image/png": "[encoded data removed]",
      "text/plain": [
       "<Figure size 432x288 with 1 Axes>"
      ]
     },
     "metadata": {},
     "output_type": "display_data"
    }
   ],
   "source": [
    "plt.plot(x, y, 'o')  \n",
    "plt.plot(x, np.polyval(fit, x));"
   ]
  },
  {
   "cell_type": "markdown",
   "metadata": {},
   "source": [
    "## Further numerical functionality in SciPy\n",
    "\n",
    "There is a lot functionality more in SciPy and its subpackages, e.g.:\n",
    "\n",
    " * optimization\n",
    " \n",
    " * (even more) linear algebra\n",
    " \n",
    " * integration\n",
    " \n",
    " * interpolation\n",
    " \n",
    " * special functions\n",
    " \n",
    " * fast fourier transforms\n",
    " \n",
    " * signal and image processing\n",
    " \n",
    " * solvers for ordinary differential equations.\n",
    " \n",
    " * ..."
   ]
  },
  {
   "cell_type": "markdown",
   "metadata": {},
   "source": [
    "# Assignment 1 "
   ]
  },
  {
   "cell_type": "markdown",
   "metadata": {},
   "source": [
    " 1. Write a script to find a rough approximation to the **location of the minimum** of the function\n",
    "    $$y(x) = x -  \\frac{15 x}{1+x}$$\n",
    "    \n",
    "    by computing the values of the function for $N=10$ evenly spaced\n",
    "    values of $x$ between 0 and 10, and determining the $x$ value\n",
    "    corresponding to the minimum $y$.\n",
    "\n",
    "    Next, the script should successively increase the number of evenly\n",
    "    spaced $x$-values between 0 and 10, taking $N=10^2$, $10^3$,\n",
    "    $10^4$, $10^5$ and $10^6$.\n",
    "\n",
    "    The script should print the $x$ value of the minimum and its accuracy\n",
    "    for each $N$.\n",
    "\n",
    " 2. Find a better way to do this using SciPy. Check the accuracy."
   ]
  },
  {
   "cell_type": "code",
   "execution_count": 63,
   "metadata": {},
   "outputs": [
    {
     "name": "stdout",
     "output_type": "stream",
     "text": [
      " The minimum with  10  divisions in x, for x =  [3.33333333] \n",
      "\n",
      " The minimum with  100  divisions in x, for x =  [2.82828283] \n",
      "\n",
      " The minimum with  1000  divisions in x, for x =  [2.87287287] \n",
      "\n",
      " The minimum with  10000  divisions in x, for x =  [2.87328733] \n",
      "\n",
      " The minimum with  100000  divisions in x, for x =  [2.87302873] \n",
      "\n",
      " The minimum with  1000000  divisions in x, for x =  [2.87298287] \n",
      "\n"
     ]
    }
   ],
   "source": [
    "# importing the libraries\n",
    "import numpy as np\n",
    "import scipy as sp\n",
    "\n",
    "# creating list of the number of spacings, N for different runs\n",
    "space = [10, 100, 1000, 10000, 100000, 1000000]\n",
    "\n",
    "# finding y for each x and the printing the x corresponding to minimum y for each case\n",
    "\n",
    "# running the loop for each spacings given \n",
    "for N in space:\n",
    "    \n",
    "    # creating x wiht N equally spaced points\n",
    "    x=np.linspace(0., 10., N)\n",
    "    \n",
    "    # determining y corresponding to each x\n",
    "    y=x-15*x/(1+x)\n",
    "    \n",
    "    # printing out the N and x for minimum y\n",
    "    print(\" The minimum with \",N, \" divisions in x, for x = \", x[(y-(np.min(y)))<10e-16], \"\\n\")\n"
   ]
  },
  {
   "cell_type": "code",
   "execution_count": 53,
   "metadata": {},
   "outputs": [
    {
     "name": "stdout",
     "output_type": "stream",
     "text": [
      "14.0\n"
     ]
    }
   ],
   "source": [
    "\n",
    "def f(x):\n",
    "    return (x-15*x/(1+x))\n",
    "\n",
    "root=sp.optimize.newton(f, 1.5)\n",
    "print(root)"
   ]
  },
  {
   "cell_type": "code",
   "execution_count": 61,
   "metadata": {},
   "outputs": [
    {
     "name": "stdout",
     "output_type": "stream",
     "text": [
      "     fun: -8.254033307585168\n",
      "    nfev: 17\n",
      "     nit: 11\n",
      " success: True\n",
      "       x: 2.872983345588738\n"
     ]
    }
   ],
   "source": [
    "# defining the function given with x as the only variable\n",
    "# since x is the only variable I have used the scalar minimization in optimize library in SciPy\n",
    "# the results differed when using Brent and Bounded methods in the 8th decimal point\n",
    "\n",
    "def f(x):\n",
    "    return (x-15*x/(1+x))\n",
    "\n",
    "# finding the x for minimum value of f using the Brent method \n",
    "root=sp.optimize.minimize_scalar(f)\n",
    "print(\"The minimum calculated using the Brent method for Scalar Minimization is \",root.x, \"\\n\")"
   ]
  },
  {
   "cell_type": "code",
   "execution_count": 60,
   "metadata": {},
   "outputs": [
    {
     "name": "stdout",
     "output_type": "stream",
     "text": [
      "     fun: -8.254033307585168\n",
      " message: 'Solution found.'\n",
      "    nfev: 11\n",
      "  status: 0\n",
      " success: True\n",
      "       x: 2.8729833285671402\n"
     ]
    }
   ],
   "source": [
    "def f(x):\n",
    "    return (x-15*x/(1+x))\n",
    "\n",
    "root=sp.optimize.minimize_scalar(f, bounds=(0.0, 10.0), method='bounded')\n",
    "print(\"The minimum calculated using the Bounded method for Scalar Minimization is \"root.x, \"\\n\")\n",
    "\n",
    "# on comparing: That calculated using the SciPy library with those calculated by finding done earlier\n",
    "# the results in earlier part differs to the actual value 2.87298334621 after the third decimal digit\n",
    "# that calculated using SciPy library is same till 8th digit, hence much higher in accuracy "
   ]
  },
  {
   "cell_type": "code",
   "execution_count": 65,
   "metadata": {},
   "outputs": [
    {
     "data": {
      "text/plain": [
       "2.872983346207417"
      ]
     },
     "execution_count": 65,
     "metadata": {},
     "output_type": "execute_result"
    }
   ],
   "source": [
    "-1+np.sqrt(15)"
   ]
  },
  {
   "cell_type": "code",
   "execution_count": null,
   "metadata": {},
   "outputs": [],
   "source": []
  }
 ],
 "metadata": {
  "kernelspec": {
   "display_name": "Python 3",
   "language": "python",
   "name": "python3"
  },
  "language_info": {
   "codemirror_mode": {
    "name": "ipython",
    "version": 3
   },
   "file_extension": ".py",
   "mimetype": "text/x-python",
   "name": "python",
   "nbconvert_exporter": "python",
   "pygments_lexer": "ipython3",
   "version": "3.6.5"
  }
 },
 "nbformat": 4,
 "nbformat_minor": 2
}
