{
  "nbformat": 4,
  "nbformat_minor": 0,
  "metadata": {
    "colab": {
      "provenance": [],
      "include_colab_link": true
    },
    "kernelspec": {
      "name": "python3",
      "display_name": "Python 3"
    },
    "accelerator": "GPU"
  },
  "cells": [
    {
      "cell_type": "markdown",
      "metadata": {
        "id": "view-in-github",
        "colab_type": "text"
      },
      "source": [
        "<a href=\"https://colab.research.google.com/github/tgaurav7/Machine-Learning-/blob/main/LinearRegression.ipynb\" target=\"_parent\"><img src=\"https://colab.research.google.com/assets/colab-badge.svg\" alt=\"Open In Colab\"/></a>"
      ]
    },
    {
      "cell_type": "markdown",
      "metadata": {
        "id": "ON4WbEBvk9Z9"
      },
      "source": [
        "# Linear Regression\n",
        "## Predicting Student's marks from Study Hours"
      ]
    },
    {
      "cell_type": "markdown",
      "metadata": {
        "id": "RKxoZ5lknWll"
      },
      "source": [
        "### Import Libraries"
      ]
    },
    {
      "cell_type": "code",
      "metadata": {
        "id": "Lq6qDjhHnbak"
      },
      "source": [
        "#import autograd.numpy as np # for autograd, need to use autograd's numpy!\n",
        "import numpy as np\n",
        "import matplotlib.pyplot as plt\n",
        "#from autograd import grad # autograd!\n",
        "# Note: autograd is a library that computes derivatives for you; we will use this later"
      ],
      "execution_count": null,
      "outputs": []
    },
    {
      "cell_type": "markdown",
      "metadata": {
        "id": "W5b_-H-zn3_O"
      },
      "source": [
        "### Read Data"
      ]
    },
    {
      "cell_type": "code",
      "metadata": {
        "id": "T1a23JYWn5oM"
      },
      "source": [
        "data = np.genfromtxt('https://raw.githubusercontent.com/kaustubholpadkar/Linear_Regression-Gradient_Descent-Octave/master/data.csv', delimiter=',')"
      ],
      "execution_count": null,
      "outputs": []
    },
    {
      "cell_type": "code",
      "metadata": {
        "id": "Ip2EQ_PGoQJO",
        "outputId": "787e31ab-47c9-4f25-946a-93b2e83f0247",
        "colab": {
          "base_uri": "https://localhost:8080/",
          "height": 34
        }
      },
      "source": [
        "data.shape"
      ],
      "execution_count": null,
      "outputs": [
        {
          "output_type": "execute_result",
          "data": {
            "text/plain": [
              "(100, 2)"
            ]
          },
          "metadata": {
            "tags": []
          },
          "execution_count": 3
        }
      ]
    },
    {
      "cell_type": "markdown",
      "metadata": {
        "id": "8rMv-L53odN5"
      },
      "source": [
        "### Seperate Data into X and Y"
      ]
    },
    {
      "cell_type": "code",
      "metadata": {
        "id": "uop_AFQSolHl"
      },
      "source": [
        "X = data[:, 0]\n",
        "Y = data[:, 1]"
      ],
      "execution_count": null,
      "outputs": []
    },
    {
      "cell_type": "markdown",
      "metadata": {
        "id": "wPSTKDAXpLAN"
      },
      "source": [
        "### Visualize the Data"
      ]
    },
    {
      "cell_type": "code",
      "metadata": {
        "id": "qdTK7EOQpL5Y",
        "outputId": "fd8d85a1-4907-459e-f026-f50bbb1ce621",
        "colab": {
          "base_uri": "https://localhost:8080/",
          "height": 312
        }
      },
      "source": [
        "fig = plt.figure()\n",
        "plt.scatter(X, Y)\n",
        "fig.suptitle('Student Data : Expected Marks vs Hours of Study', fontsize=18)\n",
        "plt.xlabel('Hours of Study', fontsize=14)\n",
        "plt.ylabel('Expected Marks', fontsize=14)\n",
        "plt.show()"
      ],
      "execution_count": null,
      "outputs": [
        {
          "output_type": "display_data",
          "data": {
            "image/png": "[encoded data removed]",
            "text/plain": [
              "<Figure size 432x288 with 1 Axes>"
            ]
          },
          "metadata": {
            "tags": [],
            "needs_background": "light"
          }
        }
      ]
    },
    {
      "cell_type": "markdown",
      "metadata": {
        "id": "Yrjucdifq_mt"
      },
      "source": [
        "### Hyperparameters"
      ]
    },
    {
      "cell_type": "code",
      "metadata": {
        "id": "OwVfkk3RrC_I"
      },
      "source": [
        "learning_rate = 0.0001\n",
        "max_iteration = 40"
      ],
      "execution_count": null,
      "outputs": []
    },
    {
      "cell_type": "markdown",
      "metadata": {
        "id": "EzXaG70OrZtn"
      },
      "source": [
        "### Parameters"
      ]
    },
    {
      "cell_type": "code",
      "metadata": {
        "id": "2INJM9AIrcBu"
      },
      "source": [
        "m = 0.0 # with autograd need to assign floats!\n",
        "b = 0.0"
      ],
      "execution_count": null,
      "outputs": []
    },
    {
      "cell_type": "markdown",
      "metadata": {
        "id": "FPt2eKjBr1Lx"
      },
      "source": [
        "### Hypothesis"
      ]
    },
    {
      "cell_type": "code",
      "metadata": {
        "id": "enVE4tHWsBBF"
      },
      "source": [
        "def h (m, b, X) :\n",
        "  return m * X + b"
      ],
      "execution_count": null,
      "outputs": []
    },
    {
      "cell_type": "markdown",
      "metadata": {
        "id": "IA9I6vaXs7nb"
      },
      "source": [
        "### Loss Function"
      ]
    },
    {
      "cell_type": "code",
      "metadata": {
        "id": "3KOQVUjBs-Ub"
      },
      "source": [
        "# when we did this without autograd, the loss was NOT used in the optimization!\n",
        "# it was just used to print a diagnostic message during the optimization\n",
        "# here, with autograd, we are going to use loss directly (see gradientAG)\n",
        "def loss (m, b, X, Y):\n",
        "  return (1/np.size(Y))*np.sum(np.square(Y - h(m, b, X))) / 2\n",
        "# for autograd to work, need to remove use of np.average\n",
        "# and replace with 1/N * np.sum... in the loss function\n",
        "# because ow autograd will complain that it can't do its\n",
        "# thing with np.average (and in an obscure manner)\n"
      ],
      "execution_count": null,
      "outputs": []
    },
    {
      "cell_type": "markdown",
      "metadata": {
        "id": "7TE79NG-tyLG"
      },
      "source": [
        "### Calculate Gradients"
      ]
    },
    {
      "cell_type": "code",
      "metadata": {
        "id": "yy9yxye4t0BJ"
      },
      "source": [
        "# old gradient function that was manually derived from the loss function\n",
        "# not used in the autograd version\n",
        "def gradient (m, b, X, Y) :\n",
        "  dm = - np.average((Y - h(m, b, X)) * X)\n",
        "  db = - np.average(Y - h(m, b, X))\n",
        "  return (dm, db)"
      ],
      "execution_count": null,
      "outputs": []
    },
    {
      "cell_type": "code",
      "metadata": {
        "id": "kJIXPe5n4QX8"
      },
      "source": [
        "# Note: autograd is used to derive the gradients\n",
        "# For A1 we will ignore this!\n",
        "#grad_loss_m = grad(loss,0) # grad of loss wrt 0th arg, m\n",
        "#grad_loss_b = grad(loss,1) # grad of loss wrt 1st arg, b\n",
        "#\n",
        "#def gradientAG (m, b, X, Y) :\n",
        "#  dm = grad_loss_m(m,b,X,Y)\n",
        "#  db = grad_loss_b(m,b,X,Y)\n",
        "#  return (dm, db)\n",
        "# debug stuff ... used to figure out why autograd complained\n",
        "# when loss had an np.average in it; keeping it in the code\n",
        "# so students can understand how to debug something...\n",
        "#print(\"m\",m)\n",
        "#print(\"b\",b)\n",
        "#print(\"X\",X)\n",
        "#print(\"Y\",Y)\n",
        "#f=grad(loss,0)\n",
        "#gradientAG(m,b,X,Y)\n",
        "#help(f)\n",
        "#f=grad(loss)\n",
        "#f(m,b,X,Y)\n"
      ],
      "execution_count": null,
      "outputs": []
    },
    {
      "cell_type": "markdown",
      "metadata": {
        "id": "jVo5TbKyu9KL"
      },
      "source": [
        "### Gradient Descent"
      ]
    },
    {
      "cell_type": "code",
      "metadata": {
        "id": "fprg4-tcu-4v"
      },
      "source": [
        "def gradient_descent (m, b, X, Y, learning_rate, max_iteration) :\n",
        "  for i in range(max_iteration) :\n",
        "    # replace the call to gradient with gradientAG for autograd\n",
        "    #dm, db = gradientAG (m, b, X, Y)\n",
        "    dm, db = gradient (m, b, X, Y)\n",
        "\n",
        "    m -= learning_rate * dm\n",
        "    b -= learning_rate * db\n",
        "    if i % 10 == 0 :\n",
        "      print ('iteration : ', i, ' loss : ', loss(m, b, X, Y))\n",
        "  return (m, b)"
      ],
      "execution_count": null,
      "outputs": []
    },
    {
      "cell_type": "markdown",
      "metadata": {
        "id": "uMIZFxUhwQZO"
      },
      "source": [
        "### Train Model"
      ]
    },
    {
      "cell_type": "code",
      "metadata": {
        "id": "-0okDGSCwUC7",
        "outputId": "7c8fe609-62ee-4c0b-db94-21a975928ac7",
        "colab": {
          "base_uri": "https://localhost:8080/",
          "height": 85
        }
      },
      "source": [
        "m, b = gradient_descent (m, b, X, Y, learning_rate, max_iteration)"
      ],
      "execution_count": null,
      "outputs": [
        {
          "output_type": "stream",
          "text": [
            "iteration :  0  loss :  56.324963270541446\n",
            "iteration :  10  loss :  56.324872813436855\n",
            "iteration :  20  loss :  56.324782531451376\n",
            "iteration :  30  loss :  56.32469225682517\n"
          ],
          "name": "stdout"
        }
      ]
    },
    {
      "cell_type": "markdown",
      "metadata": {
        "id": "MFp2MUlexVd5"
      },
      "source": [
        "### Optimal values of Parameters using Trained Model"
      ]
    },
    {
      "cell_type": "code",
      "metadata": {
        "id": "tcMQWkuvwYu7",
        "outputId": "dd075653-9f52-4971-ed69-0d8e0f034ccc",
        "colab": {
          "base_uri": "https://localhost:8080/",
          "height": 34
        }
      },
      "source": [
        "m, b"
      ],
      "execution_count": null,
      "outputs": [
        {
          "output_type": "execute_result",
          "data": {
            "text/plain": [
              "(1.4788735489646005, 0.031471170292993914)"
            ]
          },
          "metadata": {
            "tags": []
          },
          "execution_count": 17
        }
      ]
    },
    {
      "cell_type": "markdown",
      "metadata": {
        "id": "vsa_VlHd8ged"
      },
      "source": [
        "### Linear Regression using *polyfit*  function of **numpy**"
      ]
    },
    {
      "cell_type": "code",
      "metadata": {
        "id": "WJajnpzW8p2L"
      },
      "source": [
        "np_m, np_b = np.polyfit(X, Y, 1)"
      ],
      "execution_count": null,
      "outputs": []
    },
    {
      "cell_type": "markdown",
      "metadata": {
        "id": "MjJ7Di8z8-Qb"
      },
      "source": [
        "### Optimal values of Parameters using Numpy Linear Regression"
      ]
    },
    {
      "cell_type": "code",
      "metadata": {
        "id": "z4G5h9Ki7IJi",
        "outputId": "723ed440-26d5-4877-b3b0-fed05b5ea775",
        "colab": {
          "base_uri": "https://localhost:8080/",
          "height": 34
        }
      },
      "source": [
        "np_m, np_b"
      ],
      "execution_count": null,
      "outputs": [
        {
          "output_type": "execute_result",
          "data": {
            "text/plain": [
              "(1.32243102275536, 7.991020982270385)"
            ]
          },
          "metadata": {
            "tags": []
          },
          "execution_count": 19
        }
      ]
    },
    {
      "cell_type": "markdown",
      "metadata": {
        "id": "Dh6PmQOwxcKk"
      },
      "source": [
        "### Visualize the Data"
      ]
    },
    {
      "cell_type": "code",
      "metadata": {
        "id": "B0h7MJE0xcKo",
        "outputId": "3848cdea-a248-4df3-bcc5-cf4b977ca594",
        "colab": {
          "base_uri": "https://localhost:8080/",
          "height": 312
        }
      },
      "source": [
        "fig = plt.figure()\n",
        "\n",
        "# Generate data for plotting Line\n",
        "x = np.arange(25, 75)\n",
        "y = [m * x_i + b for x_i in x]\n",
        "\n",
        "# Generate data for plotting Line Numpy Linear Regression\n",
        "np_x = np.arange(25, 75)\n",
        "np_y = [np_m * x_i + np_b for x_i in np_x]\n",
        "\n",
        "# plot data and best-fit lines\n",
        "plt.plot(X, Y, 'o', x, y, '-', np_x, np_y, '--')\n",
        "plt.legend(loc='upper left', labels=['data points', 'best-fit line', 'numpy line'])\n",
        "\n",
        "fig.suptitle('Linear Regression : Expected Marks vs Hours of Study', fontsize=18)\n",
        "plt.xlabel('Hours of Study', fontsize=14)\n",
        "plt.ylabel('Expected Marks', fontsize=14)\n",
        "plt.show()"
      ],
      "execution_count": null,
      "outputs": [
        {
          "output_type": "display_data",
          "data": {
            "image/png": "[encoded data removed]",
            "text/plain": [
              "<Figure size 432x288 with 1 Axes>"
            ]
          },
          "metadata": {
            "tags": [],
            "needs_background": "light"
          }
        }
      ]
    },
    {
      "cell_type": "code",
      "metadata": {
        "id": "hrNrYLes_IyY"
      },
      "source": [
        "# Supplement: magnitude of gradients\n",
        "# A student asked a question regarding the magnitude of the w vs b gradients\n",
        "# We can mod the GD code to expose this and investigate\n",
        "def instrument_gradient_descent (m, b, X, Y, learning_rate, max_iteration) :\n",
        "  gm=[]\n",
        "  gb=[]\n",
        "  for i in range(max_iteration) :\n",
        "    # replace the call to gradient with gradientAG for autograd\n",
        "    #dm, db = gradientAG (m, b, X, Y)\n",
        "    dm, db = gradient (m, b, X, Y)\n",
        "\n",
        "    m -= learning_rate * dm\n",
        "    b -= learning_rate * db\n",
        "    if i % 10 == 0 :\n",
        "      print ('iteration : ', i, ' loss : ', loss(m, b, X, Y))\n",
        "    gm+=[dm]\n",
        "    gb+=[db]\n",
        "  return (gm, gb)"
      ],
      "execution_count": null,
      "outputs": []
    },
    {
      "cell_type": "code",
      "metadata": {
        "id": "VGEmgfeMjIxv",
        "colab": {
          "base_uri": "https://localhost:8080/",
          "height": 85
        },
        "outputId": "90a8ec88-6161-4232-dbf7-ea5612b33ece"
      },
      "source": [
        "gm, gb = instrument_gradient_descent (m, b, X, Y, learning_rate, max_iteration)"
      ],
      "execution_count": null,
      "outputs": [
        {
          "output_type": "stream",
          "text": [
            "iteration :  0  loss :  56.32460198901421\n",
            "iteration :  10  loss :  56.32451172801619\n",
            "iteration :  20  loss :  56.32442147383059\n",
            "iteration :  30  loss :  56.32433122645689\n"
          ],
          "name": "stdout"
        }
      ]
    },
    {
      "cell_type": "code",
      "metadata": {
        "id": "ft7JowvPjT5S",
        "colab": {
          "base_uri": "https://localhost:8080/",
          "height": 535
        },
        "outputId": "4c7e264d-fd4d-448c-c12a-c1e22b5f744d"
      },
      "source": [
        "fig = plt.figure()\n",
        "plt.plot(gm,'o')\n",
        "plt.show()\n",
        "fig = plt.figure()\n",
        "plt.plot(gb,'o')\n",
        "plt.show()"
      ],
      "execution_count": null,
      "outputs": [
        {
          "output_type": "display_data",
          "data": {
            "image/png": "[encoded data removed]",
            "text/plain": [
              "<Figure size 432x288 with 1 Axes>"
            ]
          },
          "metadata": {
            "tags": [],
            "needs_background": "light"
          }
        },
        {
          "output_type": "display_data",
          "data": {
            "image/png": "[encoded data removed]",
            "text/plain": [
              "<Figure size 432x288 with 1 Axes>"
            ]
          },
          "metadata": {
            "tags": [],
            "needs_background": "light"
          }
        }
      ]
    },
    {
      "cell_type": "code",
      "metadata": {
        "id": "TOgFpAJ_jYLp"
      },
      "source": [],
      "execution_count": null,
      "outputs": []
    },
    {
      "cell_type": "code",
      "metadata": {
        "id": "j7VPK-FWjjfy"
      },
      "source": [],
      "execution_count": null,
      "outputs": []
    }
  ]
}